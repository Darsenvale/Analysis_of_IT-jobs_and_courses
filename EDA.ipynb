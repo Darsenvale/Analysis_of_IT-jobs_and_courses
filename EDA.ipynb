{
  "nbformat": 4,
  "nbformat_minor": 0,
  "metadata": {
    "colab": {
      "provenance": [],
      "collapsed_sections": [
        "rxbrnNdyNP5k"
      ],
      "authorship_tag": "ABX9TyNZoOY+pocbIWaxKzI023Py",
      "include_colab_link": true
    },
    "kernelspec": {
      "name": "python3",
      "display_name": "Python 3"
    },
    "language_info": {
      "name": "python"
    }
  },
  "cells": [
    {
      "cell_type": "markdown",
      "metadata": {
        "id": "view-in-github",
        "colab_type": "text"
      },
      "source": [
        "<a href=\"https://colab.research.google.com/github/Darsenvale/Analysis_of_IT-jobs_and_courses/blob/main/EDA.ipynb\" target=\"_parent\"><img src=\"https://colab.research.google.com/assets/colab-badge.svg\" alt=\"Open In Colab\"/></a>"
      ]
    },
    {
      "cell_type": "markdown",
      "source": [
        "План: \n",
        "1. Модификация данных, привести к общему рабочему виду\n",
        "  1. Преобразовать зарплаты в рабочий вид\n",
        "  2. Перевести валютные зарплаты в рубли\n",
        "  3. Преобразовать навыки в рабочий вид\n",
        "  4. Преобразовать специализации\n",
        "2. Создать очищенный датафрейм\n",
        "3. Анализ специализаций вакансий\n",
        "4. Анализ вакансий, не требующих опыта\n",
        "5. Анализ навыков\n",
        "8. Визуализация"
      ],
      "metadata": {
        "id": "Cg9iXJR8Nnt-"
      }
    },
    {
      "cell_type": "markdown",
      "source": [
        "#Подгрузка датасета"
      ],
      "metadata": {
        "id": "Owf85UZENFAu"
      }
    },
    {
      "cell_type": "code",
      "source": [
        "import pandas as pd\n",
        "import numpy as np\n",
        "import re\n",
        "import matplotlib.pyplot as plt\n",
        "import seaborn as sns\n",
        "import json\n",
        "\n",
        "!gdown --id 1KWIZhrd7SRUHPI2foKZm2DxJCR4z8oqE"
      ],
      "metadata": {
        "colab": {
          "base_uri": "https://localhost:8080/"
        },
        "id": "BkIBV-l_D0_Z",
        "outputId": "9bcb73c0-4176-4b66-a910-f4f1a5e28bc9"
      },
      "execution_count": null,
      "outputs": [
        {
          "output_type": "stream",
          "name": "stdout",
          "text": [
            "/usr/local/lib/python3.7/dist-packages/gdown/cli.py:131: FutureWarning: Option `--id` was deprecated in version 4.3.1 and will be removed in 5.0. You don't need to pass it anymore to use a file ID.\n",
            "  category=FutureWarning,\n",
            "Downloading...\n",
            "From: https://drive.google.com/uc?id=1KWIZhrd7SRUHPI2foKZm2DxJCR4z8oqE\n",
            "To: /content/region roles (26.05.22).xlsx\n",
            "100% 84.4M/84.4M [00:00<00:00, 124MB/s]\n"
          ]
        }
      ]
    },
    {
      "cell_type": "code",
      "source": [
        "data_xlsx = pd.read_excel('/content/region roles (26.05.22).xlsx')\n",
        "#Преобразуем датасет в csv формат\n",
        "data_xlsx.to_csv('data_csv')"
      ],
      "metadata": {
        "id": "BqBkIwwLD3wo"
      },
      "execution_count": null,
      "outputs": []
    },
    {
      "cell_type": "code",
      "source": [
        "raw_dataset = pd.read_csv('data_csv')"
      ],
      "metadata": {
        "colab": {
          "base_uri": "https://localhost:8080/"
        },
        "id": "ayhzebRoEAdv",
        "outputId": "06dfa2ad-6366-4815-d575-6dbe254fc943"
      },
      "execution_count": null,
      "outputs": [
        {
          "output_type": "stream",
          "name": "stderr",
          "text": [
            "/usr/local/lib/python3.7/dist-packages/IPython/core/interactiveshell.py:3326: DtypeWarning: Columns (12,34) have mixed types.Specify dtype option on import or set low_memory=False.\n",
            "  exec(code_obj, self.user_global_ns, self.user_ns)\n"
          ]
        }
      ]
    },
    {
      "cell_type": "code",
      "source": [
        "#создадим копию датасета для дальнейшей работы. Чтобы не приходилось повторно загружать датасет в непредвиденных случаях\n",
        "dataset = raw_dataset\n",
        "dataset.head()"
      ],
      "metadata": {
        "id": "3YPmiUAOI3eF",
        "colab": {
          "base_uri": "https://localhost:8080/",
          "height": 664
        },
        "outputId": "b7403f6c-5d75-445e-b434-ace437c990ce"
      },
      "execution_count": null,
      "outputs": [
        {
          "output_type": "execute_result",
          "data": {
            "text/plain": [
              "   Unnamed: 0  Unnamed: 0.1        id  premium  \\\n",
              "0           0             0  49059633    False   \n",
              "1           1             1  54653519    False   \n",
              "2           2             2  55116066    False   \n",
              "3           3             3  54031261    False   \n",
              "4           4             4  55243040    False   \n",
              "\n",
              "                                               name  \\\n",
              "0           Младший специалист ручного тестирования   \n",
              "1                                   Тестировщик.Net   \n",
              "2                                         Пентестер   \n",
              "3  Ведущий Специалист по информационным технологиям   \n",
              "4                   Специалист по защите информации   \n",
              "\n",
              "                                          department  has_test  \\\n",
              "0                                                NaN     False   \n",
              "1                                                NaN     False   \n",
              "2                                                NaN     False   \n",
              "3  {'id': 'pochta-4352-office', 'name': '«Почта Р...     False   \n",
              "4                                                NaN     False   \n",
              "\n",
              "   response_letter_required  \\\n",
              "0                     False   \n",
              "1                     False   \n",
              "2                     False   \n",
              "3                     False   \n",
              "4                     False   \n",
              "\n",
              "                                                area  \\\n",
              "0  {'id': '15', 'name': 'Астрахань', 'url': 'http...   \n",
              "1  {'id': '15', 'name': 'Астрахань', 'url': 'http...   \n",
              "2  {'id': '15', 'name': 'Астрахань', 'url': 'http...   \n",
              "3  {'id': '15', 'name': 'Астрахань', 'url': 'http...   \n",
              "4  {'id': '15', 'name': 'Астрахань', 'url': 'http...   \n",
              "\n",
              "                                              salary  ... working_days  \\\n",
              "0                                                NaN  ...           []   \n",
              "1  {'from': 25000, 'to': 50000, 'currency': 'RUR'...  ...           []   \n",
              "2                                                NaN  ...           []   \n",
              "3  {'from': 26000, 'to': None, 'currency': 'RUR',...  ...           []   \n",
              "4  {'from': 20000, 'to': 20000, 'currency': 'RUR'...  ...           []   \n",
              "\n",
              "  working_time_intervals working_time_modes  accept_temporary  \\\n",
              "0                     []                 []             False   \n",
              "1                     []                 []             False   \n",
              "2                     []                 []             False   \n",
              "3                     []                 []             False   \n",
              "4                     []                 []             False   \n",
              "\n",
              "                                         description  \\\n",
              "0  <p>В некоторых проектах Яндексу помогают компа...   \n",
              "1  <p><em><strong>Мы ищем талантливого и амбициоз...   \n",
              "2  <p>Лидер на рынке систем информационной безопа...   \n",
              "3  <ul> <li>Администрирование компьютерной сети</...   \n",
              "4  <strong>Обязанности:</strong> <ul> <li>Обеспеч...   \n",
              "\n",
              "                                          experience  \\\n",
              "0        {'id': 'noExperience', 'name': 'Нет опыта'}   \n",
              "1  {'id': 'between1And3', 'name': 'От 1 года до 3...   \n",
              "2    {'id': 'between3And6', 'name': 'От 3 до 6 лет'}   \n",
              "3        {'id': 'noExperience', 'name': 'Нет опыта'}   \n",
              "4        {'id': 'noExperience', 'name': 'Нет опыта'}   \n",
              "\n",
              "                                          key_skills  \\\n",
              "0                                                 []   \n",
              "1  [{'name': 'Git'}, {'name': 'SQL'}, {'name': 'Т...   \n",
              "2  [{'name': 'SQL'}, {'name': 'Linux'}, {'name': ...   \n",
              "3  [{'name': 'Пользователь ПК'}, {'name': 'Работа...   \n",
              "4  [{'name': 'MS Dos'}, {'name': 'Диагностика ПК'...   \n",
              "\n",
              "                                     specializations                region  \\\n",
              "0  [{'id': '1.172', 'name': 'Начальный уровень, М...  Астраханская область   \n",
              "1  [{'id': '1.221', 'name': 'Программирование, Ра...  Астраханская область   \n",
              "2  [{'id': '1.221', 'name': 'Программирование, Ра...  Астраханская область   \n",
              "3  [{'id': '1.110', 'name': 'Компьютерная безопас...  Астраханская область   \n",
              "4  [{'id': '1.110', 'name': 'Компьютерная безопас...  Астраханская область   \n",
              "\n",
              "  immediate_redirect_url  \n",
              "0                    NaN  \n",
              "1                    NaN  \n",
              "2                    NaN  \n",
              "3                    NaN  \n",
              "4                    NaN  \n",
              "\n",
              "[5 rows x 35 columns]"
            ],
            "text/html": [
              "\n",
              "  <div id=\"df-41df27ef-77aa-4a51-8f9d-442d09b9748f\">\n",
              "    <div class=\"colab-df-container\">\n",
              "      <div>\n",
              "<style scoped>\n",
              "    .dataframe tbody tr th:only-of-type {\n",
              "        vertical-align: middle;\n",
              "    }\n",
              "\n",
              "    .dataframe tbody tr th {\n",
              "        vertical-align: top;\n",
              "    }\n",
              "\n",
              "    .dataframe thead th {\n",
              "        text-align: right;\n",
              "    }\n",
              "</style>\n",
              "<table border=\"1\" class=\"dataframe\">\n",
              "  <thead>\n",
              "    <tr style=\"text-align: right;\">\n",
              "      <th></th>\n",
              "      <th>Unnamed: 0</th>\n",
              "      <th>Unnamed: 0.1</th>\n",
              "      <th>id</th>\n",
              "      <th>premium</th>\n",
              "      <th>name</th>\n",
              "      <th>department</th>\n",
              "      <th>has_test</th>\n",
              "      <th>response_letter_required</th>\n",
              "      <th>area</th>\n",
              "      <th>salary</th>\n",
              "      <th>...</th>\n",
              "      <th>working_days</th>\n",
              "      <th>working_time_intervals</th>\n",
              "      <th>working_time_modes</th>\n",
              "      <th>accept_temporary</th>\n",
              "      <th>description</th>\n",
              "      <th>experience</th>\n",
              "      <th>key_skills</th>\n",
              "      <th>specializations</th>\n",
              "      <th>region</th>\n",
              "      <th>immediate_redirect_url</th>\n",
              "    </tr>\n",
              "  </thead>\n",
              "  <tbody>\n",
              "    <tr>\n",
              "      <th>0</th>\n",
              "      <td>0</td>\n",
              "      <td>0</td>\n",
              "      <td>49059633</td>\n",
              "      <td>False</td>\n",
              "      <td>Младший специалист ручного тестирования</td>\n",
              "      <td>NaN</td>\n",
              "      <td>False</td>\n",
              "      <td>False</td>\n",
              "      <td>{'id': '15', 'name': 'Астрахань', 'url': 'http...</td>\n",
              "      <td>NaN</td>\n",
              "      <td>...</td>\n",
              "      <td>[]</td>\n",
              "      <td>[]</td>\n",
              "      <td>[]</td>\n",
              "      <td>False</td>\n",
              "      <td>&lt;p&gt;В некоторых проектах Яндексу помогают компа...</td>\n",
              "      <td>{'id': 'noExperience', 'name': 'Нет опыта'}</td>\n",
              "      <td>[]</td>\n",
              "      <td>[{'id': '1.172', 'name': 'Начальный уровень, М...</td>\n",
              "      <td>Астраханская область</td>\n",
              "      <td>NaN</td>\n",
              "    </tr>\n",
              "    <tr>\n",
              "      <th>1</th>\n",
              "      <td>1</td>\n",
              "      <td>1</td>\n",
              "      <td>54653519</td>\n",
              "      <td>False</td>\n",
              "      <td>Тестировщик.Net</td>\n",
              "      <td>NaN</td>\n",
              "      <td>False</td>\n",
              "      <td>False</td>\n",
              "      <td>{'id': '15', 'name': 'Астрахань', 'url': 'http...</td>\n",
              "      <td>{'from': 25000, 'to': 50000, 'currency': 'RUR'...</td>\n",
              "      <td>...</td>\n",
              "      <td>[]</td>\n",
              "      <td>[]</td>\n",
              "      <td>[]</td>\n",
              "      <td>False</td>\n",
              "      <td>&lt;p&gt;&lt;em&gt;&lt;strong&gt;Мы ищем талантливого и амбициоз...</td>\n",
              "      <td>{'id': 'between1And3', 'name': 'От 1 года до 3...</td>\n",
              "      <td>[{'name': 'Git'}, {'name': 'SQL'}, {'name': 'Т...</td>\n",
              "      <td>[{'id': '1.221', 'name': 'Программирование, Ра...</td>\n",
              "      <td>Астраханская область</td>\n",
              "      <td>NaN</td>\n",
              "    </tr>\n",
              "    <tr>\n",
              "      <th>2</th>\n",
              "      <td>2</td>\n",
              "      <td>2</td>\n",
              "      <td>55116066</td>\n",
              "      <td>False</td>\n",
              "      <td>Пентестер</td>\n",
              "      <td>NaN</td>\n",
              "      <td>False</td>\n",
              "      <td>False</td>\n",
              "      <td>{'id': '15', 'name': 'Астрахань', 'url': 'http...</td>\n",
              "      <td>NaN</td>\n",
              "      <td>...</td>\n",
              "      <td>[]</td>\n",
              "      <td>[]</td>\n",
              "      <td>[]</td>\n",
              "      <td>False</td>\n",
              "      <td>&lt;p&gt;Лидер на рынке систем информационной безопа...</td>\n",
              "      <td>{'id': 'between3And6', 'name': 'От 3 до 6 лет'}</td>\n",
              "      <td>[{'name': 'SQL'}, {'name': 'Linux'}, {'name': ...</td>\n",
              "      <td>[{'id': '1.221', 'name': 'Программирование, Ра...</td>\n",
              "      <td>Астраханская область</td>\n",
              "      <td>NaN</td>\n",
              "    </tr>\n",
              "    <tr>\n",
              "      <th>3</th>\n",
              "      <td>3</td>\n",
              "      <td>3</td>\n",
              "      <td>54031261</td>\n",
              "      <td>False</td>\n",
              "      <td>Ведущий Специалист по информационным технологиям</td>\n",
              "      <td>{'id': 'pochta-4352-office', 'name': '«Почта Р...</td>\n",
              "      <td>False</td>\n",
              "      <td>False</td>\n",
              "      <td>{'id': '15', 'name': 'Астрахань', 'url': 'http...</td>\n",
              "      <td>{'from': 26000, 'to': None, 'currency': 'RUR',...</td>\n",
              "      <td>...</td>\n",
              "      <td>[]</td>\n",
              "      <td>[]</td>\n",
              "      <td>[]</td>\n",
              "      <td>False</td>\n",
              "      <td>&lt;ul&gt; &lt;li&gt;Администрирование компьютерной сети&lt;/...</td>\n",
              "      <td>{'id': 'noExperience', 'name': 'Нет опыта'}</td>\n",
              "      <td>[{'name': 'Пользователь ПК'}, {'name': 'Работа...</td>\n",
              "      <td>[{'id': '1.110', 'name': 'Компьютерная безопас...</td>\n",
              "      <td>Астраханская область</td>\n",
              "      <td>NaN</td>\n",
              "    </tr>\n",
              "    <tr>\n",
              "      <th>4</th>\n",
              "      <td>4</td>\n",
              "      <td>4</td>\n",
              "      <td>55243040</td>\n",
              "      <td>False</td>\n",
              "      <td>Специалист по защите информации</td>\n",
              "      <td>NaN</td>\n",
              "      <td>False</td>\n",
              "      <td>False</td>\n",
              "      <td>{'id': '15', 'name': 'Астрахань', 'url': 'http...</td>\n",
              "      <td>{'from': 20000, 'to': 20000, 'currency': 'RUR'...</td>\n",
              "      <td>...</td>\n",
              "      <td>[]</td>\n",
              "      <td>[]</td>\n",
              "      <td>[]</td>\n",
              "      <td>False</td>\n",
              "      <td>&lt;strong&gt;Обязанности:&lt;/strong&gt; &lt;ul&gt; &lt;li&gt;Обеспеч...</td>\n",
              "      <td>{'id': 'noExperience', 'name': 'Нет опыта'}</td>\n",
              "      <td>[{'name': 'MS Dos'}, {'name': 'Диагностика ПК'...</td>\n",
              "      <td>[{'id': '1.110', 'name': 'Компьютерная безопас...</td>\n",
              "      <td>Астраханская область</td>\n",
              "      <td>NaN</td>\n",
              "    </tr>\n",
              "  </tbody>\n",
              "</table>\n",
              "<p>5 rows × 35 columns</p>\n",
              "</div>\n",
              "      <button class=\"colab-df-convert\" onclick=\"convertToInteractive('df-41df27ef-77aa-4a51-8f9d-442d09b9748f')\"\n",
              "              title=\"Convert this dataframe to an interactive table.\"\n",
              "              style=\"display:none;\">\n",
              "        \n",
              "  <svg xmlns=\"http://www.w3.org/2000/svg\" height=\"24px\"viewBox=\"0 0 24 24\"\n",
              "       width=\"24px\">\n",
              "    <path d=\"M0 0h24v24H0V0z\" fill=\"none\"/>\n",
              "    <path d=\"M18.56 5.44l.94 2.06.94-2.06 2.06-.94-2.06-.94-.94-2.06-.94 2.06-2.06.94zm-11 1L8.5 8.5l.94-2.06 2.06-.94-2.06-.94L8.5 2.5l-.94 2.06-2.06.94zm10 10l.94 2.06.94-2.06 2.06-.94-2.06-.94-.94-2.06-.94 2.06-2.06.94z\"/><path d=\"M17.41 7.96l-1.37-1.37c-.4-.4-.92-.59-1.43-.59-.52 0-1.04.2-1.43.59L10.3 9.45l-7.72 7.72c-.78.78-.78 2.05 0 2.83L4 21.41c.39.39.9.59 1.41.59.51 0 1.02-.2 1.41-.59l7.78-7.78 2.81-2.81c.8-.78.8-2.07 0-2.86zM5.41 20L4 18.59l7.72-7.72 1.47 1.35L5.41 20z\"/>\n",
              "  </svg>\n",
              "      </button>\n",
              "      \n",
              "  <style>\n",
              "    .colab-df-container {\n",
              "      display:flex;\n",
              "      flex-wrap:wrap;\n",
              "      gap: 12px;\n",
              "    }\n",
              "\n",
              "    .colab-df-convert {\n",
              "      background-color: #E8F0FE;\n",
              "      border: none;\n",
              "      border-radius: 50%;\n",
              "      cursor: pointer;\n",
              "      display: none;\n",
              "      fill: #1967D2;\n",
              "      height: 32px;\n",
              "      padding: 0 0 0 0;\n",
              "      width: 32px;\n",
              "    }\n",
              "\n",
              "    .colab-df-convert:hover {\n",
              "      background-color: #E2EBFA;\n",
              "      box-shadow: 0px 1px 2px rgba(60, 64, 67, 0.3), 0px 1px 3px 1px rgba(60, 64, 67, 0.15);\n",
              "      fill: #174EA6;\n",
              "    }\n",
              "\n",
              "    [theme=dark] .colab-df-convert {\n",
              "      background-color: #3B4455;\n",
              "      fill: #D2E3FC;\n",
              "    }\n",
              "\n",
              "    [theme=dark] .colab-df-convert:hover {\n",
              "      background-color: #434B5C;\n",
              "      box-shadow: 0px 1px 3px 1px rgba(0, 0, 0, 0.15);\n",
              "      filter: drop-shadow(0px 1px 2px rgba(0, 0, 0, 0.3));\n",
              "      fill: #FFFFFF;\n",
              "    }\n",
              "  </style>\n",
              "\n",
              "      <script>\n",
              "        const buttonEl =\n",
              "          document.querySelector('#df-41df27ef-77aa-4a51-8f9d-442d09b9748f button.colab-df-convert');\n",
              "        buttonEl.style.display =\n",
              "          google.colab.kernel.accessAllowed ? 'block' : 'none';\n",
              "\n",
              "        async function convertToInteractive(key) {\n",
              "          const element = document.querySelector('#df-41df27ef-77aa-4a51-8f9d-442d09b9748f');\n",
              "          const dataTable =\n",
              "            await google.colab.kernel.invokeFunction('convertToInteractive',\n",
              "                                                     [key], {});\n",
              "          if (!dataTable) return;\n",
              "\n",
              "          const docLinkHtml = 'Like what you see? Visit the ' +\n",
              "            '<a target=\"_blank\" href=https://colab.research.google.com/notebooks/data_table.ipynb>data table notebook</a>'\n",
              "            + ' to learn more about interactive tables.';\n",
              "          element.innerHTML = '';\n",
              "          dataTable['output_type'] = 'display_data';\n",
              "          await google.colab.output.renderOutput(dataTable, element);\n",
              "          const docLink = document.createElement('div');\n",
              "          docLink.innerHTML = docLinkHtml;\n",
              "          element.appendChild(docLink);\n",
              "        }\n",
              "      </script>\n",
              "    </div>\n",
              "  </div>\n",
              "  "
            ]
          },
          "metadata": {},
          "execution_count": 4
        }
      ]
    },
    {
      "cell_type": "code",
      "source": [
        "dataset.info()"
      ],
      "metadata": {
        "colab": {
          "base_uri": "https://localhost:8080/"
        },
        "id": "i8bFo2ym15QV",
        "outputId": "cda3b8af-3191-4cc2-e515-4100f48af49e"
      },
      "execution_count": null,
      "outputs": [
        {
          "output_type": "stream",
          "name": "stdout",
          "text": [
            "<class 'pandas.core.frame.DataFrame'>\n",
            "RangeIndex: 69656 entries, 0 to 69655\n",
            "Data columns (total 35 columns):\n",
            " #   Column                    Non-Null Count  Dtype  \n",
            "---  ------                    --------------  -----  \n",
            " 0   Unnamed: 0                69656 non-null  int64  \n",
            " 1   Unnamed: 0.1              69656 non-null  int64  \n",
            " 2   id                        69656 non-null  int64  \n",
            " 3   premium                   69656 non-null  bool   \n",
            " 4   name                      69656 non-null  object \n",
            " 5   department                5263 non-null   object \n",
            " 6   has_test                  69656 non-null  bool   \n",
            " 7   response_letter_required  69656 non-null  bool   \n",
            " 8   area                      69656 non-null  object \n",
            " 9   salary                    37590 non-null  object \n",
            " 10  type                      69656 non-null  object \n",
            " 11  address                   40318 non-null  object \n",
            " 12  response_url              1 non-null      object \n",
            " 13  sort_point_distance       0 non-null      float64\n",
            " 14  published_at              69656 non-null  object \n",
            " 15  created_at                69656 non-null  object \n",
            " 16  archived                  69656 non-null  bool   \n",
            " 17  insider_interview         522 non-null    object \n",
            " 18  url                       69656 non-null  object \n",
            " 19  alternate_url             69656 non-null  object \n",
            " 20  relations                 69656 non-null  object \n",
            " 21  employer                  69656 non-null  object \n",
            " 22  snippet                   69656 non-null  object \n",
            " 23  contacts                  35114 non-null  object \n",
            " 24  schedule                  69656 non-null  object \n",
            " 25  working_days              69656 non-null  object \n",
            " 26  working_time_intervals    69656 non-null  object \n",
            " 27  working_time_modes        69656 non-null  object \n",
            " 28  accept_temporary          69656 non-null  bool   \n",
            " 29  description               69656 non-null  object \n",
            " 30  experience                69656 non-null  object \n",
            " 31  key_skills                69656 non-null  object \n",
            " 32  specializations           69656 non-null  object \n",
            " 33  region                    69656 non-null  object \n",
            " 34  immediate_redirect_url    1 non-null      object \n",
            "dtypes: bool(5), float64(1), int64(3), object(26)\n",
            "memory usage: 16.3+ MB\n"
          ]
        }
      ]
    },
    {
      "cell_type": "markdown",
      "source": [
        "В датасете 69656 записей о вакансиях. Наибольшее количетсов пропусков в столбцах \"Отдел\", \"Внутреннее интервью\", \"Контакты\" и столбцах с зарплатой. Для анализа нам потребуются колонки с зарплатами, профобласть, наименования вакансий, ключевые навыки."
      ],
      "metadata": {
        "id": "m6szVyWr2AT8"
      }
    },
    {
      "cell_type": "markdown",
      "source": [
        "#Привести данные к рабочим форматам"
      ],
      "metadata": {
        "id": "8rOj1P8-EDkv"
      }
    },
    {
      "cell_type": "markdown",
      "source": [
        "Преобразуем специализацию"
      ],
      "metadata": {
        "id": "6rehtMRLEe41"
      }
    },
    {
      "cell_type": "code",
      "source": [
        "def text_to_json(text):\n",
        "  try:\n",
        "    return json.loads(text.replace('\"', '').replace(\"'\", '\"'))\n",
        "  except:\n",
        "    return []\n",
        "\n",
        "dataset['specializations_json'] = dataset['specializations'].apply(text_to_json)\n",
        "dataset['specializations_json']"
      ],
      "metadata": {
        "colab": {
          "base_uri": "https://localhost:8080/"
        },
        "id": "fty30z46ECKm",
        "outputId": "9e6c1ec1-4bf5-4ae2-8e3e-1d849948baae"
      },
      "execution_count": null,
      "outputs": [
        {
          "output_type": "execute_result",
          "data": {
            "text/plain": [
              "0        [{'id': '1.172', 'name': 'Начальный уровень, М...\n",
              "1        [{'id': '1.221', 'name': 'Программирование, Ра...\n",
              "2        [{'id': '1.221', 'name': 'Программирование, Ра...\n",
              "3        [{'id': '1.110', 'name': 'Компьютерная безопас...\n",
              "4        [{'id': '1.110', 'name': 'Компьютерная безопас...\n",
              "                               ...                        \n",
              "69651    [{'id': '1.221', 'name': 'Программирование, Ра...\n",
              "69652    [{'id': '1.221', 'name': 'Программирование, Ра...\n",
              "69653    [{'id': '9.94', 'name': 'Информационные технол...\n",
              "69654    [{'id': '9.94', 'name': 'Информационные технол...\n",
              "69655    [{'id': '9.94', 'name': 'Информационные технол...\n",
              "Name: specializations_json, Length: 69656, dtype: object"
            ]
          },
          "metadata": {},
          "execution_count": 6
        }
      ]
    },
    {
      "cell_type": "code",
      "source": [
        "def return_indexed(data):\n",
        "    return data[0]['profarea_name']\n",
        "dataset['prof_area'] = dataset['specializations_json'].apply(return_indexed)"
      ],
      "metadata": {
        "id": "N9sClONUEiFV"
      },
      "execution_count": null,
      "outputs": []
    },
    {
      "cell_type": "code",
      "source": [
        "def get_values(json):\n",
        "  try:\n",
        "    out = []\n",
        "    if len(json)>0:\n",
        "      for i in json:\n",
        "        out.append(i['name'])\n",
        "    return out\n",
        "  except:\n",
        "    return []\n",
        "\n",
        "dataset['prof_name'] = dataset['specializations_json'].apply(get_values)\n"
      ],
      "metadata": {
        "id": "LyVKjfheElZH"
      },
      "execution_count": null,
      "outputs": []
    },
    {
      "cell_type": "markdown",
      "source": [
        "Преобразуем зарплаты"
      ],
      "metadata": {
        "id": "3ku0OkSYFG_0"
      }
    },
    {
      "cell_type": "code",
      "source": [
        "#Трансформируем в Json для дальнешей работы\n",
        "dataset['salary_json'] = dataset['salary'].fillna('{}').apply(eval)\n",
        "\n",
        "#Пишем функцию для вычленения начальной зарплаты в отдельную колонку\n",
        "def get_min_salary(json):\n",
        "  try:\n",
        "    return json['from']\n",
        "  except:\n",
        "    return None\n",
        "\n",
        "#Создаём отдельную колонку с минимальными зарплатами\n",
        "dataset['min_salary'] = dataset['salary_json'].apply(get_min_salary)\n",
        "dataset['min_salary']"
      ],
      "metadata": {
        "colab": {
          "base_uri": "https://localhost:8080/"
        },
        "id": "r9mKi_WlE_Wc",
        "outputId": "deb9be3f-fbe7-4cdb-df2f-0d4a0d307a60"
      },
      "execution_count": null,
      "outputs": [
        {
          "output_type": "execute_result",
          "data": {
            "text/plain": [
              "0             NaN\n",
              "1         25000.0\n",
              "2             NaN\n",
              "3         26000.0\n",
              "4         20000.0\n",
              "           ...   \n",
              "69651         NaN\n",
              "69652    130000.0\n",
              "69653     50000.0\n",
              "69654     85000.0\n",
              "69655         NaN\n",
              "Name: min_salary, Length: 69656, dtype: float64"
            ]
          },
          "metadata": {},
          "execution_count": 9
        }
      ]
    },
    {
      "cell_type": "code",
      "source": [
        "#Пишем функцию для вычленения начальной зарплаты в отдельную колонку\n",
        "def get_max_salary(json):\n",
        "  try:\n",
        "    return json['from']\n",
        "  except:\n",
        "    return None\n",
        "\n",
        "#Создаём отдельную колонку с минимальными зарплатами\n",
        "dataset['max_salary'] = dataset['salary_json'].apply(get_max_salary)\n",
        "dataset['max_salary']"
      ],
      "metadata": {
        "colab": {
          "base_uri": "https://localhost:8080/"
        },
        "id": "XVu2VGIXFMvc",
        "outputId": "1fb7e69d-d3cd-47a2-e695-f19fd8d85ae6"
      },
      "execution_count": null,
      "outputs": [
        {
          "output_type": "execute_result",
          "data": {
            "text/plain": [
              "0             NaN\n",
              "1         25000.0\n",
              "2             NaN\n",
              "3         26000.0\n",
              "4         20000.0\n",
              "           ...   \n",
              "69651         NaN\n",
              "69652    130000.0\n",
              "69653     50000.0\n",
              "69654     85000.0\n",
              "69655         NaN\n",
              "Name: max_salary, Length: 69656, dtype: float64"
            ]
          },
          "metadata": {},
          "execution_count": 10
        }
      ]
    },
    {
      "cell_type": "code",
      "source": [
        "#Для преобразования валютных зарплат в рублевые необходимо создать колонку валют\n",
        "def get_currency(json):\n",
        "  try:\n",
        "    return json['currency']\n",
        "  except:\n",
        "    return None\n",
        "\n",
        "#Создаем колонку валют\n",
        "dataset['currency'] = dataset['salary_json'].apply(get_currency)\n",
        "dataset['currency']"
      ],
      "metadata": {
        "colab": {
          "base_uri": "https://localhost:8080/"
        },
        "id": "sLRLoTugFTST",
        "outputId": "e9fbf184-f32b-4081-fcff-0b083f4eab5e"
      },
      "execution_count": null,
      "outputs": [
        {
          "output_type": "execute_result",
          "data": {
            "text/plain": [
              "0        None\n",
              "1         RUR\n",
              "2        None\n",
              "3         RUR\n",
              "4         RUR\n",
              "         ... \n",
              "69651    None\n",
              "69652     RUR\n",
              "69653     RUR\n",
              "69654     RUR\n",
              "69655    None\n",
              "Name: currency, Length: 69656, dtype: object"
            ]
          },
          "metadata": {},
          "execution_count": 11
        }
      ]
    },
    {
      "cell_type": "code",
      "source": [
        "#Добавляем курс валют\n",
        "rates = dict(RUR=1, USD=60, EUR=59, KZT=0.13)\n",
        "\n",
        "#Конвертируем валютные зарплаты\n",
        "dataset['converted_to_rur_min'] = dataset['currency'].map(rates) * dataset['min_salary']\n",
        "dataset['converted_to_rur_max'] = dataset['currency'].map(rates) * dataset['max_salary']\n"
      ],
      "metadata": {
        "id": "kUbaBCGRFU-T"
      },
      "execution_count": null,
      "outputs": []
    },
    {
      "cell_type": "markdown",
      "source": [
        "Преобразуем списки требуемых навыков"
      ],
      "metadata": {
        "id": "GIfHQzA4NlRz"
      }
    },
    {
      "cell_type": "code",
      "source": [
        "dataset['skills_json'] = dataset['key_skills'].apply(text_to_json)\n",
        "\n",
        "dataset['skill_list'] = dataset['skills_json'].apply(get_values)\n",
        "\n",
        "dataset['skill_list']"
      ],
      "metadata": {
        "id": "v7GXhtdSFkhr",
        "colab": {
          "base_uri": "https://localhost:8080/"
        },
        "outputId": "dcff23ce-d3f3-4bd3-a988-ade787ee13ca"
      },
      "execution_count": null,
      "outputs": [
        {
          "output_type": "execute_result",
          "data": {
            "text/plain": [
              "0                                                       []\n",
              "1                        [Git, SQL, Тестирование, C#, API]\n",
              "2        [SQL, Linux, Информационная безопасность, Рабо...\n",
              "3        [Пользователь ПК, Работа в команде, 1С: Предпр...\n",
              "4        [MS Dos, Диагностика ПК, Компьютер, Работа в у...\n",
              "                               ...                        \n",
              "69651                                                   []\n",
              "69652    [1С: Управление Торговлей, 1С: Предприятие 8, ...\n",
              "69653    [Организаторские навыки, Работа в команде, Упр...\n",
              "69654                                                   []\n",
              "69655    [Информационная безопасность, Аудит безопаснос...\n",
              "Name: skill_list, Length: 69656, dtype: object"
            ]
          },
          "metadata": {},
          "execution_count": 13
        }
      ]
    },
    {
      "cell_type": "markdown",
      "source": [
        "Преобразуем колонку требуемого опыта"
      ],
      "metadata": {
        "id": "0iWSjG8pNmYj"
      }
    },
    {
      "cell_type": "code",
      "source": [
        "dataset['exp_json'] = dataset['experience'].apply(text_to_json)\n",
        "\n",
        "def get_exp(json):\n",
        "  try:\n",
        "    return json['name']\n",
        "  except:\n",
        "    return None\n",
        "\n",
        "dataset['clean_exp'] = dataset['exp_json'].apply(get_exp)\n",
        "dataset['clean_exp']"
      ],
      "metadata": {
        "id": "rzWTZr0GF9YL",
        "colab": {
          "base_uri": "https://localhost:8080/"
        },
        "outputId": "8735eecb-4a70-4878-c77e-be630b0d8ddc"
      },
      "execution_count": null,
      "outputs": [
        {
          "output_type": "execute_result",
          "data": {
            "text/plain": [
              "0                 Нет опыта\n",
              "1        От 1 года до 3 лет\n",
              "2             От 3 до 6 лет\n",
              "3                 Нет опыта\n",
              "4                 Нет опыта\n",
              "                ...        \n",
              "69651         От 3 до 6 лет\n",
              "69652    От 1 года до 3 лет\n",
              "69653    От 1 года до 3 лет\n",
              "69654         От 3 до 6 лет\n",
              "69655           Более 6 лет\n",
              "Name: clean_exp, Length: 69656, dtype: object"
            ]
          },
          "metadata": {},
          "execution_count": 14
        }
      ]
    },
    {
      "cell_type": "markdown",
      "source": [
        "#Создаём датафрейм с необходимыми колонками в удобных форматах"
      ],
      "metadata": {
        "id": "rxbrnNdyNP5k"
      }
    },
    {
      "cell_type": "code",
      "source": [
        "#создаём пустой датафрейм\n",
        "df = pd.DataFrame()"
      ],
      "metadata": {
        "id": "PGfYD8qrGOPh"
      },
      "execution_count": null,
      "outputs": []
    },
    {
      "cell_type": "code",
      "source": [
        "#переносим необходимые для анализа колонки\n",
        "df['#'] = dataset['Unnamed: 0.1']\n",
        "df['Вакансия'] = dataset['name']\n",
        "df['Навыки'] = dataset['skill_list']\n",
        "df['Регион'] = dataset['region']\n",
        "df['Отрасль'] = dataset['prof_area']\n",
        "df['Специализация'] = dataset['prof_name']\n",
        "df['Опыт'] = dataset['clean_exp']\n",
        "df['Зарплата от'] = dataset['converted_to_rur_min']\n",
        "df['Зарплата до'] = dataset['converted_to_rur_max']"
      ],
      "metadata": {
        "id": "FSTzcyqPGUND"
      },
      "execution_count": null,
      "outputs": []
    },
    {
      "cell_type": "code",
      "source": [
        "df.info()"
      ],
      "metadata": {
        "colab": {
          "base_uri": "https://localhost:8080/"
        },
        "id": "ObsrefpeJAW0",
        "outputId": "575b400a-050e-4558-a02c-cef7fa73f4fe"
      },
      "execution_count": null,
      "outputs": [
        {
          "output_type": "stream",
          "name": "stdout",
          "text": [
            "<class 'pandas.core.frame.DataFrame'>\n",
            "RangeIndex: 69656 entries, 0 to 69655\n",
            "Data columns (total 9 columns):\n",
            " #   Column         Non-Null Count  Dtype  \n",
            "---  ------         --------------  -----  \n",
            " 0   #              69656 non-null  int64  \n",
            " 1   Вакансия       69656 non-null  object \n",
            " 2   Навыки         69656 non-null  object \n",
            " 3   Регион         69656 non-null  object \n",
            " 4   Отрасль        69656 non-null  object \n",
            " 5   Специализация  69656 non-null  object \n",
            " 6   Опыт           69656 non-null  object \n",
            " 7   Зарплата от    34074 non-null  float64\n",
            " 8   Зарплата до    34074 non-null  float64\n",
            "dtypes: float64(2), int64(1), object(6)\n",
            "memory usage: 4.8+ MB\n"
          ]
        }
      ]
    },
    {
      "cell_type": "code",
      "source": [
        "df.head(20)"
      ],
      "metadata": {
        "colab": {
          "base_uri": "https://localhost:8080/"
        },
        "id": "lyCST9B6Jfgb",
        "outputId": "832526f1-b8e3-490a-f824-fd8c1ba1d4d0"
      },
      "execution_count": null,
      "outputs": [
        {
          "output_type": "execute_result",
          "data": {
            "text/plain": [
              "     #                                           Вакансия  \\\n",
              "0    0            Младший специалист ручного тестирования   \n",
              "1    1                                    Тестировщик.Net   \n",
              "2    2                                          Пентестер   \n",
              "3    3   Ведущий Специалист по информационным технологиям   \n",
              "4    4                    Специалист по защите информации   \n",
              "5    5                    Специалист по защите информации   \n",
              "6    6   Ведущий специалист по информационным технологиям   \n",
              "7    7                    Специалист по защите информации   \n",
              "8    8                  Оператор организационного сектора   \n",
              "9    9          Специалист по информационной безопасности   \n",
              "10  10                              Менеджер по персоналу   \n",
              "11  11    Мастер производственного обучения/преподаватель   \n",
              "12  12             Начальник отдела управления персоналом   \n",
              "13  13                              Менеджер по персоналу   \n",
              "14  14                   Специалист по работе с молодежью   \n",
              "15  15          Менеджер по подбору и адаптации персонала   \n",
              "16  16           Менеджер по подбору персонала / рекрутер   \n",
              "17  17                      Менеджер по подбору персонала   \n",
              "18  18                    Специалист по подбору персонала   \n",
              "19  19  Ведущий специалист / главный специалист по под...   \n",
              "\n",
              "                                               Навыки                Регион  \\\n",
              "0                                                  []  Астраханская область   \n",
              "1                   [Git, SQL, Тестирование, C#, API]  Астраханская область   \n",
              "2   [SQL, Linux, Информационная безопасность, Рабо...  Астраханская область   \n",
              "3   [Пользователь ПК, Работа в команде, 1С: Предпр...  Астраханская область   \n",
              "4   [MS Dos, Диагностика ПК, Компьютер, Работа в у...  Астраханская область   \n",
              "5                                                  []  Астраханская область   \n",
              "6   [Администрирование сетевого оборудования, Заку...  Астраханская область   \n",
              "7   [Пользователь ПК, Работа в команде, Грамотная ...  Астраханская область   \n",
              "8   [Пользователь ПК, Работа в команде, Грамотная ...  Астраханская область   \n",
              "9                                                  []  Астраханская область   \n",
              "10  [Подбор персонала, Адаптация персонала, Обучен...  Астраханская область   \n",
              "11                                                 []  Астраханская область   \n",
              "12                                                 []  Астраханская область   \n",
              "13  [Подбор персонала, Деловая переписка, Поиск пе...  Астраханская область   \n",
              "14  [Организаторские навыки, Работа в команде, Орг...  Астраханская область   \n",
              "15  [Подбор персонала, Массовый подбор персонала, ...  Астраханская область   \n",
              "16  [Подбор персонала, Массовый подбор персонала, ...  Астраханская область   \n",
              "17  [Грамотная речь, Телефонные переговоры, Консул...  Астраханская область   \n",
              "18  [Подбор персонала, Грамотная речь, Телефонные ...  Астраханская область   \n",
              "19  [Подбор персонала, Работа в команде, Управлени...  Астраханская область   \n",
              "\n",
              "                                         Отрасль  \\\n",
              "0   Информационные технологии, интернет, телеком   \n",
              "1   Информационные технологии, интернет, телеком   \n",
              "2   Информационные технологии, интернет, телеком   \n",
              "3   Информационные технологии, интернет, телеком   \n",
              "4   Информационные технологии, интернет, телеком   \n",
              "5   Информационные технологии, интернет, телеком   \n",
              "6   Информационные технологии, интернет, телеком   \n",
              "7   Информационные технологии, интернет, телеком   \n",
              "8   Информационные технологии, интернет, телеком   \n",
              "9   Информационные технологии, интернет, телеком   \n",
              "10               Управление персоналом, тренинги   \n",
              "11               Управление персоналом, тренинги   \n",
              "12               Управление персоналом, тренинги   \n",
              "13               Управление персоналом, тренинги   \n",
              "14               Управление персоналом, тренинги   \n",
              "15               Управление персоналом, тренинги   \n",
              "16               Управление персоналом, тренинги   \n",
              "17               Управление персоналом, тренинги   \n",
              "18               Управление персоналом, тренинги   \n",
              "19               Управление персоналом, тренинги   \n",
              "\n",
              "                                        Специализация                Опыт  \\\n",
              "0   [Начальный уровень, Мало опыта, Тестирование, ...           Нет опыта   \n",
              "1   [Программирование, Разработка, Инженер, Тестир...  От 1 года до 3 лет   \n",
              "2   [Программирование, Разработка, Инженер, Тестир...       От 3 до 6 лет   \n",
              "3   [Компьютерная безопасность, Сетевые технологии...           Нет опыта   \n",
              "4   [Компьютерная безопасность, Сетевые технологии...           Нет опыта   \n",
              "5   [Компьютерная безопасность, Сетевые технологии...           Нет опыта   \n",
              "6   [Компьютерная безопасность, Сетевые технологии...       От 3 до 6 лет   \n",
              "7   [Компьютерная безопасность, Сетевые технологии...           Нет опыта   \n",
              "8   [Компьютерная безопасность, Сетевые технологии...           Нет опыта   \n",
              "9   [Компьютерная безопасность, Сетевые технологии...       От 3 до 6 лет   \n",
              "10  [Рекрутмент, Управление персоналом, Учет кадро...       От 3 до 6 лет   \n",
              "11  [Рекрутмент, Управление персоналом, Учет кадро...  От 1 года до 3 лет   \n",
              "12  [Рекрутмент, Управление персоналом, Учет кадро...       От 3 до 6 лет   \n",
              "13  [Рекрутмент, Управление персоналом, Учет кадро...  От 1 года до 3 лет   \n",
              "14  [Рекрутмент, Управление персоналом, Учет кадро...  От 1 года до 3 лет   \n",
              "15  [Рекрутмент, Управление персоналом, Развитие п...  От 1 года до 3 лет   \n",
              "16  [Рекрутмент, Управление персоналом, Развитие п...  От 1 года до 3 лет   \n",
              "17  [Рекрутмент, Управление персоналом, Развитие п...           Нет опыта   \n",
              "18  [Рекрутмент, Управление персоналом, Развитие п...           Нет опыта   \n",
              "19  [Рекрутмент, Управление персоналом, Развитие п...       От 3 до 6 лет   \n",
              "\n",
              "    Зарплата от  Зарплата до  \n",
              "0           NaN          NaN  \n",
              "1       25000.0      25000.0  \n",
              "2           NaN          NaN  \n",
              "3       26000.0      26000.0  \n",
              "4       20000.0      20000.0  \n",
              "5       15000.0      15000.0  \n",
              "6           NaN          NaN  \n",
              "7       27000.0      27000.0  \n",
              "8       30000.0      30000.0  \n",
              "9       15000.0      15000.0  \n",
              "10      40000.0      40000.0  \n",
              "11          NaN          NaN  \n",
              "12      40000.0      40000.0  \n",
              "13          NaN          NaN  \n",
              "14          NaN          NaN  \n",
              "15      35000.0      35000.0  \n",
              "16      30000.0      30000.0  \n",
              "17      27000.0      27000.0  \n",
              "18      30000.0      30000.0  \n",
              "19          NaN          NaN  "
            ],
            "text/html": [
              "\n",
              "  <div id=\"df-36190597-9bbd-48f7-b604-989398083d95\">\n",
              "    <div class=\"colab-df-container\">\n",
              "      <div>\n",
              "<style scoped>\n",
              "    .dataframe tbody tr th:only-of-type {\n",
              "        vertical-align: middle;\n",
              "    }\n",
              "\n",
              "    .dataframe tbody tr th {\n",
              "        vertical-align: top;\n",
              "    }\n",
              "\n",
              "    .dataframe thead th {\n",
              "        text-align: right;\n",
              "    }\n",
              "</style>\n",
              "<table border=\"1\" class=\"dataframe\">\n",
              "  <thead>\n",
              "    <tr style=\"text-align: right;\">\n",
              "      <th></th>\n",
              "      <th>#</th>\n",
              "      <th>Вакансия</th>\n",
              "      <th>Навыки</th>\n",
              "      <th>Регион</th>\n",
              "      <th>Отрасль</th>\n",
              "      <th>Специализация</th>\n",
              "      <th>Опыт</th>\n",
              "      <th>Зарплата от</th>\n",
              "      <th>Зарплата до</th>\n",
              "    </tr>\n",
              "  </thead>\n",
              "  <tbody>\n",
              "    <tr>\n",
              "      <th>0</th>\n",
              "      <td>0</td>\n",
              "      <td>Младший специалист ручного тестирования</td>\n",
              "      <td>[]</td>\n",
              "      <td>Астраханская область</td>\n",
              "      <td>Информационные технологии, интернет, телеком</td>\n",
              "      <td>[Начальный уровень, Мало опыта, Тестирование, ...</td>\n",
              "      <td>Нет опыта</td>\n",
              "      <td>NaN</td>\n",
              "      <td>NaN</td>\n",
              "    </tr>\n",
              "    <tr>\n",
              "      <th>1</th>\n",
              "      <td>1</td>\n",
              "      <td>Тестировщик.Net</td>\n",
              "      <td>[Git, SQL, Тестирование, C#, API]</td>\n",
              "      <td>Астраханская область</td>\n",
              "      <td>Информационные технологии, интернет, телеком</td>\n",
              "      <td>[Программирование, Разработка, Инженер, Тестир...</td>\n",
              "      <td>От 1 года до 3 лет</td>\n",
              "      <td>25000.0</td>\n",
              "      <td>25000.0</td>\n",
              "    </tr>\n",
              "    <tr>\n",
              "      <th>2</th>\n",
              "      <td>2</td>\n",
              "      <td>Пентестер</td>\n",
              "      <td>[SQL, Linux, Информационная безопасность, Рабо...</td>\n",
              "      <td>Астраханская область</td>\n",
              "      <td>Информационные технологии, интернет, телеком</td>\n",
              "      <td>[Программирование, Разработка, Инженер, Тестир...</td>\n",
              "      <td>От 3 до 6 лет</td>\n",
              "      <td>NaN</td>\n",
              "      <td>NaN</td>\n",
              "    </tr>\n",
              "    <tr>\n",
              "      <th>3</th>\n",
              "      <td>3</td>\n",
              "      <td>Ведущий Специалист по информационным технологиям</td>\n",
              "      <td>[Пользователь ПК, Работа в команде, 1С: Предпр...</td>\n",
              "      <td>Астраханская область</td>\n",
              "      <td>Информационные технологии, интернет, телеком</td>\n",
              "      <td>[Компьютерная безопасность, Сетевые технологии...</td>\n",
              "      <td>Нет опыта</td>\n",
              "      <td>26000.0</td>\n",
              "      <td>26000.0</td>\n",
              "    </tr>\n",
              "    <tr>\n",
              "      <th>4</th>\n",
              "      <td>4</td>\n",
              "      <td>Специалист по защите информации</td>\n",
              "      <td>[MS Dos, Диагностика ПК, Компьютер, Работа в у...</td>\n",
              "      <td>Астраханская область</td>\n",
              "      <td>Информационные технологии, интернет, телеком</td>\n",
              "      <td>[Компьютерная безопасность, Сетевые технологии...</td>\n",
              "      <td>Нет опыта</td>\n",
              "      <td>20000.0</td>\n",
              "      <td>20000.0</td>\n",
              "    </tr>\n",
              "    <tr>\n",
              "      <th>5</th>\n",
              "      <td>5</td>\n",
              "      <td>Специалист по защите информации</td>\n",
              "      <td>[]</td>\n",
              "      <td>Астраханская область</td>\n",
              "      <td>Информационные технологии, интернет, телеком</td>\n",
              "      <td>[Компьютерная безопасность, Сетевые технологии...</td>\n",
              "      <td>Нет опыта</td>\n",
              "      <td>15000.0</td>\n",
              "      <td>15000.0</td>\n",
              "    </tr>\n",
              "    <tr>\n",
              "      <th>6</th>\n",
              "      <td>6</td>\n",
              "      <td>Ведущий специалист по информационным технологиям</td>\n",
              "      <td>[Администрирование сетевого оборудования, Заку...</td>\n",
              "      <td>Астраханская область</td>\n",
              "      <td>Информационные технологии, интернет, телеком</td>\n",
              "      <td>[Компьютерная безопасность, Сетевые технологии...</td>\n",
              "      <td>От 3 до 6 лет</td>\n",
              "      <td>NaN</td>\n",
              "      <td>NaN</td>\n",
              "    </tr>\n",
              "    <tr>\n",
              "      <th>7</th>\n",
              "      <td>7</td>\n",
              "      <td>Специалист по защите информации</td>\n",
              "      <td>[Пользователь ПК, Работа в команде, Грамотная ...</td>\n",
              "      <td>Астраханская область</td>\n",
              "      <td>Информационные технологии, интернет, телеком</td>\n",
              "      <td>[Компьютерная безопасность, Сетевые технологии...</td>\n",
              "      <td>Нет опыта</td>\n",
              "      <td>27000.0</td>\n",
              "      <td>27000.0</td>\n",
              "    </tr>\n",
              "    <tr>\n",
              "      <th>8</th>\n",
              "      <td>8</td>\n",
              "      <td>Оператор организационного сектора</td>\n",
              "      <td>[Пользователь ПК, Работа в команде, Грамотная ...</td>\n",
              "      <td>Астраханская область</td>\n",
              "      <td>Информационные технологии, интернет, телеком</td>\n",
              "      <td>[Компьютерная безопасность, Сетевые технологии...</td>\n",
              "      <td>Нет опыта</td>\n",
              "      <td>30000.0</td>\n",
              "      <td>30000.0</td>\n",
              "    </tr>\n",
              "    <tr>\n",
              "      <th>9</th>\n",
              "      <td>9</td>\n",
              "      <td>Специалист по информационной безопасности</td>\n",
              "      <td>[]</td>\n",
              "      <td>Астраханская область</td>\n",
              "      <td>Информационные технологии, интернет, телеком</td>\n",
              "      <td>[Компьютерная безопасность, Сетевые технологии...</td>\n",
              "      <td>От 3 до 6 лет</td>\n",
              "      <td>15000.0</td>\n",
              "      <td>15000.0</td>\n",
              "    </tr>\n",
              "    <tr>\n",
              "      <th>10</th>\n",
              "      <td>10</td>\n",
              "      <td>Менеджер по персоналу</td>\n",
              "      <td>[Подбор персонала, Адаптация персонала, Обучен...</td>\n",
              "      <td>Астраханская область</td>\n",
              "      <td>Управление персоналом, тренинги</td>\n",
              "      <td>[Рекрутмент, Управление персоналом, Учет кадро...</td>\n",
              "      <td>От 3 до 6 лет</td>\n",
              "      <td>40000.0</td>\n",
              "      <td>40000.0</td>\n",
              "    </tr>\n",
              "    <tr>\n",
              "      <th>11</th>\n",
              "      <td>11</td>\n",
              "      <td>Мастер производственного обучения/преподаватель</td>\n",
              "      <td>[]</td>\n",
              "      <td>Астраханская область</td>\n",
              "      <td>Управление персоналом, тренинги</td>\n",
              "      <td>[Рекрутмент, Управление персоналом, Учет кадро...</td>\n",
              "      <td>От 1 года до 3 лет</td>\n",
              "      <td>NaN</td>\n",
              "      <td>NaN</td>\n",
              "    </tr>\n",
              "    <tr>\n",
              "      <th>12</th>\n",
              "      <td>12</td>\n",
              "      <td>Начальник отдела управления персоналом</td>\n",
              "      <td>[]</td>\n",
              "      <td>Астраханская область</td>\n",
              "      <td>Управление персоналом, тренинги</td>\n",
              "      <td>[Рекрутмент, Управление персоналом, Учет кадро...</td>\n",
              "      <td>От 3 до 6 лет</td>\n",
              "      <td>40000.0</td>\n",
              "      <td>40000.0</td>\n",
              "    </tr>\n",
              "    <tr>\n",
              "      <th>13</th>\n",
              "      <td>13</td>\n",
              "      <td>Менеджер по персоналу</td>\n",
              "      <td>[Подбор персонала, Деловая переписка, Поиск пе...</td>\n",
              "      <td>Астраханская область</td>\n",
              "      <td>Управление персоналом, тренинги</td>\n",
              "      <td>[Рекрутмент, Управление персоналом, Учет кадро...</td>\n",
              "      <td>От 1 года до 3 лет</td>\n",
              "      <td>NaN</td>\n",
              "      <td>NaN</td>\n",
              "    </tr>\n",
              "    <tr>\n",
              "      <th>14</th>\n",
              "      <td>14</td>\n",
              "      <td>Специалист по работе с молодежью</td>\n",
              "      <td>[Организаторские навыки, Работа в команде, Орг...</td>\n",
              "      <td>Астраханская область</td>\n",
              "      <td>Управление персоналом, тренинги</td>\n",
              "      <td>[Рекрутмент, Управление персоналом, Учет кадро...</td>\n",
              "      <td>От 1 года до 3 лет</td>\n",
              "      <td>NaN</td>\n",
              "      <td>NaN</td>\n",
              "    </tr>\n",
              "    <tr>\n",
              "      <th>15</th>\n",
              "      <td>15</td>\n",
              "      <td>Менеджер по подбору и адаптации персонала</td>\n",
              "      <td>[Подбор персонала, Массовый подбор персонала, ...</td>\n",
              "      <td>Астраханская область</td>\n",
              "      <td>Управление персоналом, тренинги</td>\n",
              "      <td>[Рекрутмент, Управление персоналом, Развитие п...</td>\n",
              "      <td>От 1 года до 3 лет</td>\n",
              "      <td>35000.0</td>\n",
              "      <td>35000.0</td>\n",
              "    </tr>\n",
              "    <tr>\n",
              "      <th>16</th>\n",
              "      <td>16</td>\n",
              "      <td>Менеджер по подбору персонала / рекрутер</td>\n",
              "      <td>[Подбор персонала, Массовый подбор персонала, ...</td>\n",
              "      <td>Астраханская область</td>\n",
              "      <td>Управление персоналом, тренинги</td>\n",
              "      <td>[Рекрутмент, Управление персоналом, Развитие п...</td>\n",
              "      <td>От 1 года до 3 лет</td>\n",
              "      <td>30000.0</td>\n",
              "      <td>30000.0</td>\n",
              "    </tr>\n",
              "    <tr>\n",
              "      <th>17</th>\n",
              "      <td>17</td>\n",
              "      <td>Менеджер по подбору персонала</td>\n",
              "      <td>[Грамотная речь, Телефонные переговоры, Консул...</td>\n",
              "      <td>Астраханская область</td>\n",
              "      <td>Управление персоналом, тренинги</td>\n",
              "      <td>[Рекрутмент, Управление персоналом, Развитие п...</td>\n",
              "      <td>Нет опыта</td>\n",
              "      <td>27000.0</td>\n",
              "      <td>27000.0</td>\n",
              "    </tr>\n",
              "    <tr>\n",
              "      <th>18</th>\n",
              "      <td>18</td>\n",
              "      <td>Специалист по подбору персонала</td>\n",
              "      <td>[Подбор персонала, Грамотная речь, Телефонные ...</td>\n",
              "      <td>Астраханская область</td>\n",
              "      <td>Управление персоналом, тренинги</td>\n",
              "      <td>[Рекрутмент, Управление персоналом, Развитие п...</td>\n",
              "      <td>Нет опыта</td>\n",
              "      <td>30000.0</td>\n",
              "      <td>30000.0</td>\n",
              "    </tr>\n",
              "    <tr>\n",
              "      <th>19</th>\n",
              "      <td>19</td>\n",
              "      <td>Ведущий специалист / главный специалист по под...</td>\n",
              "      <td>[Подбор персонала, Работа в команде, Управлени...</td>\n",
              "      <td>Астраханская область</td>\n",
              "      <td>Управление персоналом, тренинги</td>\n",
              "      <td>[Рекрутмент, Управление персоналом, Развитие п...</td>\n",
              "      <td>От 3 до 6 лет</td>\n",
              "      <td>NaN</td>\n",
              "      <td>NaN</td>\n",
              "    </tr>\n",
              "  </tbody>\n",
              "</table>\n",
              "</div>\n",
              "      <button class=\"colab-df-convert\" onclick=\"convertToInteractive('df-36190597-9bbd-48f7-b604-989398083d95')\"\n",
              "              title=\"Convert this dataframe to an interactive table.\"\n",
              "              style=\"display:none;\">\n",
              "        \n",
              "  <svg xmlns=\"http://www.w3.org/2000/svg\" height=\"24px\"viewBox=\"0 0 24 24\"\n",
              "       width=\"24px\">\n",
              "    <path d=\"M0 0h24v24H0V0z\" fill=\"none\"/>\n",
              "    <path d=\"M18.56 5.44l.94 2.06.94-2.06 2.06-.94-2.06-.94-.94-2.06-.94 2.06-2.06.94zm-11 1L8.5 8.5l.94-2.06 2.06-.94-2.06-.94L8.5 2.5l-.94 2.06-2.06.94zm10 10l.94 2.06.94-2.06 2.06-.94-2.06-.94-.94-2.06-.94 2.06-2.06.94z\"/><path d=\"M17.41 7.96l-1.37-1.37c-.4-.4-.92-.59-1.43-.59-.52 0-1.04.2-1.43.59L10.3 9.45l-7.72 7.72c-.78.78-.78 2.05 0 2.83L4 21.41c.39.39.9.59 1.41.59.51 0 1.02-.2 1.41-.59l7.78-7.78 2.81-2.81c.8-.78.8-2.07 0-2.86zM5.41 20L4 18.59l7.72-7.72 1.47 1.35L5.41 20z\"/>\n",
              "  </svg>\n",
              "      </button>\n",
              "      \n",
              "  <style>\n",
              "    .colab-df-container {\n",
              "      display:flex;\n",
              "      flex-wrap:wrap;\n",
              "      gap: 12px;\n",
              "    }\n",
              "\n",
              "    .colab-df-convert {\n",
              "      background-color: #E8F0FE;\n",
              "      border: none;\n",
              "      border-radius: 50%;\n",
              "      cursor: pointer;\n",
              "      display: none;\n",
              "      fill: #1967D2;\n",
              "      height: 32px;\n",
              "      padding: 0 0 0 0;\n",
              "      width: 32px;\n",
              "    }\n",
              "\n",
              "    .colab-df-convert:hover {\n",
              "      background-color: #E2EBFA;\n",
              "      box-shadow: 0px 1px 2px rgba(60, 64, 67, 0.3), 0px 1px 3px 1px rgba(60, 64, 67, 0.15);\n",
              "      fill: #174EA6;\n",
              "    }\n",
              "\n",
              "    [theme=dark] .colab-df-convert {\n",
              "      background-color: #3B4455;\n",
              "      fill: #D2E3FC;\n",
              "    }\n",
              "\n",
              "    [theme=dark] .colab-df-convert:hover {\n",
              "      background-color: #434B5C;\n",
              "      box-shadow: 0px 1px 3px 1px rgba(0, 0, 0, 0.15);\n",
              "      filter: drop-shadow(0px 1px 2px rgba(0, 0, 0, 0.3));\n",
              "      fill: #FFFFFF;\n",
              "    }\n",
              "  </style>\n",
              "\n",
              "      <script>\n",
              "        const buttonEl =\n",
              "          document.querySelector('#df-36190597-9bbd-48f7-b604-989398083d95 button.colab-df-convert');\n",
              "        buttonEl.style.display =\n",
              "          google.colab.kernel.accessAllowed ? 'block' : 'none';\n",
              "\n",
              "        async function convertToInteractive(key) {\n",
              "          const element = document.querySelector('#df-36190597-9bbd-48f7-b604-989398083d95');\n",
              "          const dataTable =\n",
              "            await google.colab.kernel.invokeFunction('convertToInteractive',\n",
              "                                                     [key], {});\n",
              "          if (!dataTable) return;\n",
              "\n",
              "          const docLinkHtml = 'Like what you see? Visit the ' +\n",
              "            '<a target=\"_blank\" href=https://colab.research.google.com/notebooks/data_table.ipynb>data table notebook</a>'\n",
              "            + ' to learn more about interactive tables.';\n",
              "          element.innerHTML = '';\n",
              "          dataTable['output_type'] = 'display_data';\n",
              "          await google.colab.output.renderOutput(dataTable, element);\n",
              "          const docLink = document.createElement('div');\n",
              "          docLink.innerHTML = docLinkHtml;\n",
              "          element.appendChild(docLink);\n",
              "        }\n",
              "      </script>\n",
              "    </div>\n",
              "  </div>\n",
              "  "
            ]
          },
          "metadata": {},
          "execution_count": 18
        }
      ]
    },
    {
      "cell_type": "code",
      "source": [
        "exp_vacancy = df.groupby('Вакансия')['Опыт']\n",
        "exp_profarea = df.groupby('Опыт')['Отрасль']"
      ],
      "metadata": {
        "id": "uGXvHdZjJyNq"
      },
      "execution_count": null,
      "outputs": []
    },
    {
      "cell_type": "code",
      "source": [
        "sphere = df['Специализация'].explode()\n",
        "sphere.value_counts().head(20)"
      ],
      "metadata": {
        "colab": {
          "base_uri": "https://localhost:8080/"
        },
        "id": "tONuZ8RnJ7Ly",
        "outputId": "a7c1cdfd-54d6-4681-9102-bcf8afbbede0"
      },
      "execution_count": null,
      "outputs": [
        {
          "output_type": "execute_result",
          "data": {
            "text/plain": [
              "Инженер                                  32381\n",
              "Программирование, Разработка             24349\n",
              "Системы управления предприятием (ERP)    18222\n",
              "Поддержка, Helpdesk                      15282\n",
              "Системный администратор                  15207\n",
              "Начальный уровень, Мало опыта            14883\n",
              "Web инженер                              14408\n",
              "Web мастер                               14378\n",
              "Аналитик                                 13223\n",
              "Интернет                                 12354\n",
              "Другое                                   12116\n",
              "Сетевые технологии                        9787\n",
              "Управление персоналом                     8414\n",
              "Рекрутмент                                8399\n",
              "Управление проектами                      7260\n",
              "Агент                                     6176\n",
              "Прямые продажи                            6127\n",
              "Менеджер по работе с клиентами            6052\n",
              "Недвижимость                              5797\n",
              "Развитие персонала                        5706\n",
              "Name: Специализация, dtype: int64"
            ]
          },
          "metadata": {},
          "execution_count": 20
        }
      ]
    },
    {
      "cell_type": "code",
      "source": [
        "skills = df['Навыки'].explode()\n",
        "skills.value_counts().head(20)"
      ],
      "metadata": {
        "colab": {
          "base_uri": "https://localhost:8080/"
        },
        "id": "y-sQNrnOMriN",
        "outputId": "44d06b5f-e00d-416a-f186-f5f59c67e7d5"
      },
      "execution_count": null,
      "outputs": [
        {
          "output_type": "execute_result",
          "data": {
            "text/plain": [
              "Работа в команде          8057\n",
              "Грамотная речь            6734\n",
              "SQL                       6393\n",
              "Linux                     4943\n",
              "Git                       4587\n",
              "Английский язык           4454\n",
              "Подбор персонала          4326\n",
              "Ведение переговоров       4111\n",
              "Управление проектами      3697\n",
              "Python                    3249\n",
              "Деловое общение           3235\n",
              "Пользователь ПК           3218\n",
              "Обучение и развитие       3206\n",
              "Активные продажи          3052\n",
              "Телефонные переговоры     2818\n",
              "JavaScript                2774\n",
              "Организаторские навыки    2621\n",
              "1С программирование       2598\n",
              "PostgreSQL                2565\n",
              "Adobe Photoshop           2403\n",
              "Name: Навыки, dtype: int64"
            ]
          },
          "metadata": {},
          "execution_count": 21
        }
      ]
    },
    {
      "cell_type": "code",
      "source": [
        "exp = df['Опыт']\n",
        "exp.value_counts()"
      ],
      "metadata": {
        "colab": {
          "base_uri": "https://localhost:8080/"
        },
        "id": "TNbbe8ntMz5V",
        "outputId": "d9d57da5-b3dc-4858-e195-f3be183bf5c3"
      },
      "execution_count": null,
      "outputs": [
        {
          "output_type": "execute_result",
          "data": {
            "text/plain": [
              "От 1 года до 3 лет    34989\n",
              "От 3 до 6 лет         19823\n",
              "Нет опыта             12646\n",
              "Более 6 лет            2198\n",
              "Name: Опыт, dtype: int64"
            ]
          },
          "metadata": {},
          "execution_count": 22
        }
      ]
    },
    {
      "cell_type": "code",
      "source": [
        "exp_by_profarea = df.groupby(['Отрасль','Опыт'])['Зарплата от'].mean()\n",
        "exp_by_profarea = exp_by_profarea.dropna().astype(int)"
      ],
      "metadata": {
        "id": "rBSpeioxdiar"
      },
      "execution_count": null,
      "outputs": []
    },
    {
      "cell_type": "code",
      "source": [
        "exp_by_profarea.to_frame()"
      ],
      "metadata": {
        "colab": {
          "base_uri": "https://localhost:8080/"
        },
        "id": "tPQ4MjyNCuwc",
        "outputId": "56d1d1b2-f08b-4810-ca0f-a583bf0b5c2f"
      },
      "execution_count": null,
      "outputs": [
        {
          "output_type": "execute_result",
          "data": {
            "text/plain": [
              "                                                    Зарплата от\n",
              "Отрасль                         Опыт                           \n",
              "Автомобильный бизнес            Нет опыта                214000\n",
              "                                От 1 года до 3 лет        43333\n",
              "Административный персонал       Нет опыта                 44175\n",
              "                                От 1 года до 3 лет        34526\n",
              "                                От 3 до 6 лет             44000\n",
              "...                                                         ...\n",
              "Управление персоналом, тренинги От 3 до 6 лет             62201\n",
              "Юристы                          Более 6 лет               44000\n",
              "                                Нет опыта                 71628\n",
              "                                От 1 года до 3 лет        74583\n",
              "                                От 3 до 6 лет             40000\n",
              "\n",
              "[81 rows x 1 columns]"
            ],
            "text/html": [
              "\n",
              "  <div id=\"df-3cb42bde-d941-4116-a90a-89abd2921cc3\">\n",
              "    <div class=\"colab-df-container\">\n",
              "      <div>\n",
              "<style scoped>\n",
              "    .dataframe tbody tr th:only-of-type {\n",
              "        vertical-align: middle;\n",
              "    }\n",
              "\n",
              "    .dataframe tbody tr th {\n",
              "        vertical-align: top;\n",
              "    }\n",
              "\n",
              "    .dataframe thead th {\n",
              "        text-align: right;\n",
              "    }\n",
              "</style>\n",
              "<table border=\"1\" class=\"dataframe\">\n",
              "  <thead>\n",
              "    <tr style=\"text-align: right;\">\n",
              "      <th></th>\n",
              "      <th></th>\n",
              "      <th>Зарплата от</th>\n",
              "    </tr>\n",
              "    <tr>\n",
              "      <th>Отрасль</th>\n",
              "      <th>Опыт</th>\n",
              "      <th></th>\n",
              "    </tr>\n",
              "  </thead>\n",
              "  <tbody>\n",
              "    <tr>\n",
              "      <th rowspan=\"2\" valign=\"top\">Автомобильный бизнес</th>\n",
              "      <th>Нет опыта</th>\n",
              "      <td>214000</td>\n",
              "    </tr>\n",
              "    <tr>\n",
              "      <th>От 1 года до 3 лет</th>\n",
              "      <td>43333</td>\n",
              "    </tr>\n",
              "    <tr>\n",
              "      <th rowspan=\"3\" valign=\"top\">Административный персонал</th>\n",
              "      <th>Нет опыта</th>\n",
              "      <td>44175</td>\n",
              "    </tr>\n",
              "    <tr>\n",
              "      <th>От 1 года до 3 лет</th>\n",
              "      <td>34526</td>\n",
              "    </tr>\n",
              "    <tr>\n",
              "      <th>От 3 до 6 лет</th>\n",
              "      <td>44000</td>\n",
              "    </tr>\n",
              "    <tr>\n",
              "      <th>...</th>\n",
              "      <th>...</th>\n",
              "      <td>...</td>\n",
              "    </tr>\n",
              "    <tr>\n",
              "      <th>Управление персоналом, тренинги</th>\n",
              "      <th>От 3 до 6 лет</th>\n",
              "      <td>62201</td>\n",
              "    </tr>\n",
              "    <tr>\n",
              "      <th rowspan=\"4\" valign=\"top\">Юристы</th>\n",
              "      <th>Более 6 лет</th>\n",
              "      <td>44000</td>\n",
              "    </tr>\n",
              "    <tr>\n",
              "      <th>Нет опыта</th>\n",
              "      <td>71628</td>\n",
              "    </tr>\n",
              "    <tr>\n",
              "      <th>От 1 года до 3 лет</th>\n",
              "      <td>74583</td>\n",
              "    </tr>\n",
              "    <tr>\n",
              "      <th>От 3 до 6 лет</th>\n",
              "      <td>40000</td>\n",
              "    </tr>\n",
              "  </tbody>\n",
              "</table>\n",
              "<p>81 rows × 1 columns</p>\n",
              "</div>\n",
              "      <button class=\"colab-df-convert\" onclick=\"convertToInteractive('df-3cb42bde-d941-4116-a90a-89abd2921cc3')\"\n",
              "              title=\"Convert this dataframe to an interactive table.\"\n",
              "              style=\"display:none;\">\n",
              "        \n",
              "  <svg xmlns=\"http://www.w3.org/2000/svg\" height=\"24px\"viewBox=\"0 0 24 24\"\n",
              "       width=\"24px\">\n",
              "    <path d=\"M0 0h24v24H0V0z\" fill=\"none\"/>\n",
              "    <path d=\"M18.56 5.44l.94 2.06.94-2.06 2.06-.94-2.06-.94-.94-2.06-.94 2.06-2.06.94zm-11 1L8.5 8.5l.94-2.06 2.06-.94-2.06-.94L8.5 2.5l-.94 2.06-2.06.94zm10 10l.94 2.06.94-2.06 2.06-.94-2.06-.94-.94-2.06-.94 2.06-2.06.94z\"/><path d=\"M17.41 7.96l-1.37-1.37c-.4-.4-.92-.59-1.43-.59-.52 0-1.04.2-1.43.59L10.3 9.45l-7.72 7.72c-.78.78-.78 2.05 0 2.83L4 21.41c.39.39.9.59 1.41.59.51 0 1.02-.2 1.41-.59l7.78-7.78 2.81-2.81c.8-.78.8-2.07 0-2.86zM5.41 20L4 18.59l7.72-7.72 1.47 1.35L5.41 20z\"/>\n",
              "  </svg>\n",
              "      </button>\n",
              "      \n",
              "  <style>\n",
              "    .colab-df-container {\n",
              "      display:flex;\n",
              "      flex-wrap:wrap;\n",
              "      gap: 12px;\n",
              "    }\n",
              "\n",
              "    .colab-df-convert {\n",
              "      background-color: #E8F0FE;\n",
              "      border: none;\n",
              "      border-radius: 50%;\n",
              "      cursor: pointer;\n",
              "      display: none;\n",
              "      fill: #1967D2;\n",
              "      height: 32px;\n",
              "      padding: 0 0 0 0;\n",
              "      width: 32px;\n",
              "    }\n",
              "\n",
              "    .colab-df-convert:hover {\n",
              "      background-color: #E2EBFA;\n",
              "      box-shadow: 0px 1px 2px rgba(60, 64, 67, 0.3), 0px 1px 3px 1px rgba(60, 64, 67, 0.15);\n",
              "      fill: #174EA6;\n",
              "    }\n",
              "\n",
              "    [theme=dark] .colab-df-convert {\n",
              "      background-color: #3B4455;\n",
              "      fill: #D2E3FC;\n",
              "    }\n",
              "\n",
              "    [theme=dark] .colab-df-convert:hover {\n",
              "      background-color: #434B5C;\n",
              "      box-shadow: 0px 1px 3px 1px rgba(0, 0, 0, 0.15);\n",
              "      filter: drop-shadow(0px 1px 2px rgba(0, 0, 0, 0.3));\n",
              "      fill: #FFFFFF;\n",
              "    }\n",
              "  </style>\n",
              "\n",
              "      <script>\n",
              "        const buttonEl =\n",
              "          document.querySelector('#df-3cb42bde-d941-4116-a90a-89abd2921cc3 button.colab-df-convert');\n",
              "        buttonEl.style.display =\n",
              "          google.colab.kernel.accessAllowed ? 'block' : 'none';\n",
              "\n",
              "        async function convertToInteractive(key) {\n",
              "          const element = document.querySelector('#df-3cb42bde-d941-4116-a90a-89abd2921cc3');\n",
              "          const dataTable =\n",
              "            await google.colab.kernel.invokeFunction('convertToInteractive',\n",
              "                                                     [key], {});\n",
              "          if (!dataTable) return;\n",
              "\n",
              "          const docLinkHtml = 'Like what you see? Visit the ' +\n",
              "            '<a target=\"_blank\" href=https://colab.research.google.com/notebooks/data_table.ipynb>data table notebook</a>'\n",
              "            + ' to learn more about interactive tables.';\n",
              "          element.innerHTML = '';\n",
              "          dataTable['output_type'] = 'display_data';\n",
              "          await google.colab.output.renderOutput(dataTable, element);\n",
              "          const docLink = document.createElement('div');\n",
              "          docLink.innerHTML = docLinkHtml;\n",
              "          element.appendChild(docLink);\n",
              "        }\n",
              "      </script>\n",
              "    </div>\n",
              "  </div>\n",
              "  "
            ]
          },
          "metadata": {},
          "execution_count": 24
        }
      ]
    },
    {
      "cell_type": "code",
      "source": [
        "sns.jointplot(x=df['Опыт'], y=df['Отрасль'], size=9, alpha=0.2)\n",
        "plt.show"
      ],
      "metadata": {
        "colab": {
          "base_uri": "https://localhost:8080/"
        },
        "id": "7RWoPrfUu7mT",
        "outputId": "357a316e-2c08-4ae6-a416-107e0bb1b0ef"
      },
      "execution_count": null,
      "outputs": [
        {
          "output_type": "stream",
          "name": "stderr",
          "text": [
            "/usr/local/lib/python3.7/dist-packages/seaborn/axisgrid.py:2182: UserWarning: The `size` parameter has been renamed to `height`; please update your code.\n",
            "  warnings.warn(msg, UserWarning)\n"
          ]
        },
        {
          "output_type": "execute_result",
          "data": {
            "text/plain": [
              "<function matplotlib.pyplot.show(*args, **kw)>"
            ]
          },
          "metadata": {},
          "execution_count": 25
        },
        {
          "output_type": "display_data",
          "data": {
            "text/plain": [
              "<Figure size 648x648 with 3 Axes>"
            ],
            "image/png": "[encoded data removed]"
          },
          "metadata": {
            "needs_background": "light"
          }
        }
      ]
    },
    {
      "cell_type": "code",
      "source": [
        "filter_no_exp = df['Опыт'] == 'Нет опыта'\n",
        "\n",
        "\n",
        "df_noexp = df[filter_no_exp]\n",
        "\n",
        "noexp = df_noexp['Отрасль'].value_counts()"
      ],
      "metadata": {
        "id": "FYFN_6NVlsJq"
      },
      "execution_count": null,
      "outputs": []
    },
    {
      "cell_type": "code",
      "source": [
        "df['Зарплата от'].dropna().astype(int)"
      ],
      "metadata": {
        "colab": {
          "base_uri": "https://localhost:8080/"
        },
        "id": "gywyQC1M0sYi",
        "outputId": "9a1f36bb-65db-45c4-9857-4706677df71d"
      },
      "execution_count": null,
      "outputs": [
        {
          "output_type": "execute_result",
          "data": {
            "text/plain": [
              "1         25000\n",
              "3         26000\n",
              "4         20000\n",
              "5         15000\n",
              "7         27000\n",
              "          ...  \n",
              "69647    130000\n",
              "69648     20000\n",
              "69652    130000\n",
              "69653     50000\n",
              "69654     85000\n",
              "Name: Зарплата от, Length: 34074, dtype: int64"
            ]
          },
          "metadata": {},
          "execution_count": 27
        }
      ]
    },
    {
      "cell_type": "markdown",
      "source": [
        "Выведем график соотношения количества вакансий не требующих опыта и начальной зарплаты"
      ],
      "metadata": {
        "id": "vl68karS8QaB"
      }
    },
    {
      "cell_type": "code",
      "source": [
        "sns.jointplot(x=df['Зарплата от'], y=df['Отрасль'], size=9, alpha=0.2)"
      ],
      "metadata": {
        "colab": {
          "base_uri": "https://localhost:8080/"
        },
        "id": "M_-1xIrG0f0Q",
        "outputId": "f92c2f23-9e1c-4137-850f-ae46942563b7"
      },
      "execution_count": null,
      "outputs": [
        {
          "output_type": "stream",
          "name": "stderr",
          "text": [
            "/usr/local/lib/python3.7/dist-packages/seaborn/axisgrid.py:2182: UserWarning: The `size` parameter has been renamed to `height`; please update your code.\n",
            "  warnings.warn(msg, UserWarning)\n"
          ]
        },
        {
          "output_type": "execute_result",
          "data": {
            "text/plain": [
              "<seaborn.axisgrid.JointGrid at 0x7f440edaac10>"
            ]
          },
          "metadata": {},
          "execution_count": 28
        },
        {
          "output_type": "display_data",
          "data": {
            "text/plain": [
              "<Figure size 648x648 with 3 Axes>"
            ],
            "image/png": "[encoded data removed]"
          },
          "metadata": {
            "needs_background": "light"
          }
        }
      ]
    },
    {
      "cell_type": "markdown",
      "source": [
        "Здесь видно, что отрасль ИТ предоставляет наибольшее количество вакансий, не требующих опыта. По начальному уровню заработной платы, сфера ИТ идёт после Продаж, находясь на втором месте"
      ],
      "metadata": {
        "id": "hOCgFHTd8l_n"
      }
    },
    {
      "cell_type": "code",
      "source": [
        "mean_salary_profarea = df.groupby('Отрасль')['Зарплата от'].mean()\n",
        "mean_salary_profarea = mean_salary_profarea.dropna().astype(int)\n",
        "mean_salary_profarea.sort_values(ascending=False).to_frame()[:10]"
      ],
      "metadata": {
        "id": "LH9lL7u2Wmnl",
        "colab": {
          "base_uri": "https://localhost:8080/"
        },
        "outputId": "eaff986d-3f61-40dc-b9e5-bc48fef1e883"
      },
      "execution_count": null,
      "outputs": [
        {
          "output_type": "execute_result",
          "data": {
            "text/plain": [
              "                                                    Зарплата от\n",
              "Отрасль                                                        \n",
              "Автомобильный бизнес                                     195714\n",
              "Консультирование                                         174233\n",
              "Банки, инвестиции, лизинг                                135642\n",
              "Высший менеджмент                                        118112\n",
              "Бухгалтерия, управленческий учет, финансы предп...        96687\n",
              "Строительство, недвижимость                               96600\n",
              "Продажи                                                   95845\n",
              "Страхование                                               85700\n",
              "Информационные технологии, интернет, телеком              79392\n",
              "Искусство, развлечения, масс-медиа                        74615"
            ],
            "text/html": [
              "\n",
              "  <div id=\"df-1bb313d9-9541-4945-ae8e-21883ac142f5\">\n",
              "    <div class=\"colab-df-container\">\n",
              "      <div>\n",
              "<style scoped>\n",
              "    .dataframe tbody tr th:only-of-type {\n",
              "        vertical-align: middle;\n",
              "    }\n",
              "\n",
              "    .dataframe tbody tr th {\n",
              "        vertical-align: top;\n",
              "    }\n",
              "\n",
              "    .dataframe thead th {\n",
              "        text-align: right;\n",
              "    }\n",
              "</style>\n",
              "<table border=\"1\" class=\"dataframe\">\n",
              "  <thead>\n",
              "    <tr style=\"text-align: right;\">\n",
              "      <th></th>\n",
              "      <th>Зарплата от</th>\n",
              "    </tr>\n",
              "    <tr>\n",
              "      <th>Отрасль</th>\n",
              "      <th></th>\n",
              "    </tr>\n",
              "  </thead>\n",
              "  <tbody>\n",
              "    <tr>\n",
              "      <th>Автомобильный бизнес</th>\n",
              "      <td>195714</td>\n",
              "    </tr>\n",
              "    <tr>\n",
              "      <th>Консультирование</th>\n",
              "      <td>174233</td>\n",
              "    </tr>\n",
              "    <tr>\n",
              "      <th>Банки, инвестиции, лизинг</th>\n",
              "      <td>135642</td>\n",
              "    </tr>\n",
              "    <tr>\n",
              "      <th>Высший менеджмент</th>\n",
              "      <td>118112</td>\n",
              "    </tr>\n",
              "    <tr>\n",
              "      <th>Бухгалтерия, управленческий учет, финансы предприятия</th>\n",
              "      <td>96687</td>\n",
              "    </tr>\n",
              "    <tr>\n",
              "      <th>Строительство, недвижимость</th>\n",
              "      <td>96600</td>\n",
              "    </tr>\n",
              "    <tr>\n",
              "      <th>Продажи</th>\n",
              "      <td>95845</td>\n",
              "    </tr>\n",
              "    <tr>\n",
              "      <th>Страхование</th>\n",
              "      <td>85700</td>\n",
              "    </tr>\n",
              "    <tr>\n",
              "      <th>Информационные технологии, интернет, телеком</th>\n",
              "      <td>79392</td>\n",
              "    </tr>\n",
              "    <tr>\n",
              "      <th>Искусство, развлечения, масс-медиа</th>\n",
              "      <td>74615</td>\n",
              "    </tr>\n",
              "  </tbody>\n",
              "</table>\n",
              "</div>\n",
              "      <button class=\"colab-df-convert\" onclick=\"convertToInteractive('df-1bb313d9-9541-4945-ae8e-21883ac142f5')\"\n",
              "              title=\"Convert this dataframe to an interactive table.\"\n",
              "              style=\"display:none;\">\n",
              "        \n",
              "  <svg xmlns=\"http://www.w3.org/2000/svg\" height=\"24px\"viewBox=\"0 0 24 24\"\n",
              "       width=\"24px\">\n",
              "    <path d=\"M0 0h24v24H0V0z\" fill=\"none\"/>\n",
              "    <path d=\"M18.56 5.44l.94 2.06.94-2.06 2.06-.94-2.06-.94-.94-2.06-.94 2.06-2.06.94zm-11 1L8.5 8.5l.94-2.06 2.06-.94-2.06-.94L8.5 2.5l-.94 2.06-2.06.94zm10 10l.94 2.06.94-2.06 2.06-.94-2.06-.94-.94-2.06-.94 2.06-2.06.94z\"/><path d=\"M17.41 7.96l-1.37-1.37c-.4-.4-.92-.59-1.43-.59-.52 0-1.04.2-1.43.59L10.3 9.45l-7.72 7.72c-.78.78-.78 2.05 0 2.83L4 21.41c.39.39.9.59 1.41.59.51 0 1.02-.2 1.41-.59l7.78-7.78 2.81-2.81c.8-.78.8-2.07 0-2.86zM5.41 20L4 18.59l7.72-7.72 1.47 1.35L5.41 20z\"/>\n",
              "  </svg>\n",
              "      </button>\n",
              "      \n",
              "  <style>\n",
              "    .colab-df-container {\n",
              "      display:flex;\n",
              "      flex-wrap:wrap;\n",
              "      gap: 12px;\n",
              "    }\n",
              "\n",
              "    .colab-df-convert {\n",
              "      background-color: #E8F0FE;\n",
              "      border: none;\n",
              "      border-radius: 50%;\n",
              "      cursor: pointer;\n",
              "      display: none;\n",
              "      fill: #1967D2;\n",
              "      height: 32px;\n",
              "      padding: 0 0 0 0;\n",
              "      width: 32px;\n",
              "    }\n",
              "\n",
              "    .colab-df-convert:hover {\n",
              "      background-color: #E2EBFA;\n",
              "      box-shadow: 0px 1px 2px rgba(60, 64, 67, 0.3), 0px 1px 3px 1px rgba(60, 64, 67, 0.15);\n",
              "      fill: #174EA6;\n",
              "    }\n",
              "\n",
              "    [theme=dark] .colab-df-convert {\n",
              "      background-color: #3B4455;\n",
              "      fill: #D2E3FC;\n",
              "    }\n",
              "\n",
              "    [theme=dark] .colab-df-convert:hover {\n",
              "      background-color: #434B5C;\n",
              "      box-shadow: 0px 1px 3px 1px rgba(0, 0, 0, 0.15);\n",
              "      filter: drop-shadow(0px 1px 2px rgba(0, 0, 0, 0.3));\n",
              "      fill: #FFFFFF;\n",
              "    }\n",
              "  </style>\n",
              "\n",
              "      <script>\n",
              "        const buttonEl =\n",
              "          document.querySelector('#df-1bb313d9-9541-4945-ae8e-21883ac142f5 button.colab-df-convert');\n",
              "        buttonEl.style.display =\n",
              "          google.colab.kernel.accessAllowed ? 'block' : 'none';\n",
              "\n",
              "        async function convertToInteractive(key) {\n",
              "          const element = document.querySelector('#df-1bb313d9-9541-4945-ae8e-21883ac142f5');\n",
              "          const dataTable =\n",
              "            await google.colab.kernel.invokeFunction('convertToInteractive',\n",
              "                                                     [key], {});\n",
              "          if (!dataTable) return;\n",
              "\n",
              "          const docLinkHtml = 'Like what you see? Visit the ' +\n",
              "            '<a target=\"_blank\" href=https://colab.research.google.com/notebooks/data_table.ipynb>data table notebook</a>'\n",
              "            + ' to learn more about interactive tables.';\n",
              "          element.innerHTML = '';\n",
              "          dataTable['output_type'] = 'display_data';\n",
              "          await google.colab.output.renderOutput(dataTable, element);\n",
              "          const docLink = document.createElement('div');\n",
              "          docLink.innerHTML = docLinkHtml;\n",
              "          element.appendChild(docLink);\n",
              "        }\n",
              "      </script>\n",
              "    </div>\n",
              "  </div>\n",
              "  "
            ]
          },
          "metadata": {},
          "execution_count": 29
        }
      ]
    },
    {
      "cell_type": "markdown",
      "source": [
        "Сфера ИТ находится на 9 месте по среднему уровню зарплаты. Наиболее оплачиваемыми являются Автомобильный бизнес и Консультирование (Последнее также является сферой компетенций заказчика)"
      ],
      "metadata": {
        "id": "n3TdhDEX9131"
      }
    },
    {
      "cell_type": "markdown",
      "source": [
        "Выведем диаграму соотношения вакансий по отраслям"
      ],
      "metadata": {
        "id": "RIf5D31lrqpO"
      }
    },
    {
      "cell_type": "code",
      "source": [
        "profarea_counts = df['Отрасль'].value_counts()"
      ],
      "metadata": {
        "id": "oXOZaLhKumJW"
      },
      "execution_count": null,
      "outputs": []
    },
    {
      "cell_type": "code",
      "source": [
        "profarea_other = profarea_counts[profarea_counts < 3000]\n",
        "profarea_counts = profarea_counts [profarea_counts > 3000]"
      ],
      "metadata": {
        "id": "eSISHXyS3ySO"
      },
      "execution_count": null,
      "outputs": []
    },
    {
      "cell_type": "code",
      "source": [
        "#Уберем сферы с количеством вакансий до 3000 в категорию \"Другое\"\n",
        "profarea_counts['Другое'] = profarea_other.sum()"
      ],
      "metadata": {
        "id": "g849Eu6t3zXd"
      },
      "execution_count": null,
      "outputs": []
    },
    {
      "cell_type": "code",
      "source": [
        "profarea_counts"
      ],
      "metadata": {
        "id": "OZHEF2SJ31EN",
        "colab": {
          "base_uri": "https://localhost:8080/"
        },
        "outputId": "960a7854-0ec9-4433-baa2-45366f0b1063"
      },
      "execution_count": null,
      "outputs": [
        {
          "output_type": "execute_result",
          "data": {
            "text/plain": [
              "Информационные технологии, интернет, телеком    40768\n",
              "Продажи                                         11849\n",
              "Управление персоналом, тренинги                  8465\n",
              "Маркетинг, реклама, PR                           3094\n",
              "Другое                                           5480\n",
              "Name: Отрасль, dtype: int64"
            ]
          },
          "metadata": {},
          "execution_count": 33
        }
      ]
    },
    {
      "cell_type": "code",
      "source": [
        "labels = profarea_counts.index\n",
        "sizes = profarea_counts.values\n",
        "explode = (0, 0.1, 0, 0, 0)\n",
        "\n",
        "fig1, ax1 = plt.subplots()\n",
        "ax1.pie(sizes, explode=explode, labels=labels, autopct='%1.1f%%', shadow=True, startangle=0, pctdistance=0.80)\n",
        "ax1.axis('equal') \n",
        "plt.show()"
      ],
      "metadata": {
        "colab": {
          "base_uri": "https://localhost:8080/"
        },
        "id": "IyNwQGSY1kef",
        "outputId": "400c596f-d212-4c3e-89c0-2aa50a56c38d"
      },
      "execution_count": null,
      "outputs": [
        {
          "output_type": "display_data",
          "data": {
            "text/plain": [
              "<Figure size 432x288 with 1 Axes>"
            ],
            "image/png": "[encoded data removed]"
          },
          "metadata": {}
        }
      ]
    },
    {
      "cell_type": "markdown",
      "source": [
        "Как мы видим здесь, абсолютное большинство вакансий находятся в отрасли Информационных технологий. "
      ],
      "metadata": {
        "id": "AFT47IT55wUF"
      }
    },
    {
      "cell_type": "markdown",
      "source": [
        "Определим соотношение требуемых навыков со средней зарплатой"
      ],
      "metadata": {
        "id": "0pFWG3HZMdRl"
      }
    },
    {
      "cell_type": "code",
      "source": [
        "skill_salary_df = df[['Навыки', 'Зарплата от']]\n",
        "\n",
        "\n",
        "skill_salary = skill_salary_df.explode('Навыки').dropna()\n",
        "\n",
        "skill_salary_mean = skill_salary.groupby('Навыки')['Зарплата от'].mean()\n",
        "\n",
        "skill_salary_mean.dropna().astype(int).sort_values(ascending=False)[:20]"
      ],
      "metadata": {
        "colab": {
          "base_uri": "https://localhost:8080/"
        },
        "id": "C_cYjuSHMTGa",
        "outputId": "c473cf7a-e3a3-491f-f2a0-e8d9fef18432"
      },
      "execution_count": null,
      "outputs": [
        {
          "output_type": "execute_result",
          "data": {
            "text/plain": [
              "Навыки\n",
              "Stress Management              590000\n",
              "System Integration             539850\n",
              "EdTech                         500000\n",
              "Монетизация                    500000\n",
              "HRTech                         500000\n",
              "срм                            500000\n",
              "ретеншн                        500000\n",
              "недвижимость от застройщика    500000\n",
              "International Contracts        489700\n",
              "Tender Management              489700\n",
              "Planning                       489700\n",
              "Coaching                       488962\n",
              "People Management              473750\n",
              "hebrew                         450000\n",
              "иврит                          450000\n",
              "poker                          450000\n",
              "португальский                  450000\n",
              "Бразилия                       450000\n",
              "Portuguese                     450000\n",
              "Vue.JS CLI                     425000\n",
              "Name: Зарплата от, dtype: int64"
            ]
          },
          "metadata": {},
          "execution_count": 35
        }
      ]
    },
    {
      "cell_type": "markdown",
      "source": [
        "Наиболее ценными навыками являются Стрессоустойчивость, Системная интеграция, Образовательные технологии"
      ],
      "metadata": {
        "id": "shw5FnCtMcZN"
      }
    },
    {
      "cell_type": "markdown",
      "source": [
        "# Проанализируем непосредственно сферу Информационный технологий"
      ],
      "metadata": {
        "id": "SU56dIypKdQx"
      }
    },
    {
      "cell_type": "code",
      "source": [
        "filter = df['Отрасль']=='Информационные технологии, интернет, телеком'\n",
        "\n",
        "df_it_only = df[filter]\n",
        "df_it_only.head(20)"
      ],
      "metadata": {
        "id": "mPKniZPnKfII",
        "colab": {
          "base_uri": "https://localhost:8080/",
          "height": 1000
        },
        "outputId": "7d504d58-9893-4588-ca2e-091ae9ac9135"
      },
      "execution_count": null,
      "outputs": [
        {
          "output_type": "execute_result",
          "data": {
            "text/plain": [
              "     #                                           Вакансия  \\\n",
              "0    0            Младший специалист ручного тестирования   \n",
              "1    1                                    Тестировщик.Net   \n",
              "2    2                                          Пентестер   \n",
              "3    3   Ведущий Специалист по информационным технологиям   \n",
              "4    4                    Специалист по защите информации   \n",
              "5    5                    Специалист по защите информации   \n",
              "6    6   Ведущий специалист по информационным технологиям   \n",
              "7    7                    Специалист по защите информации   \n",
              "8    8                  Оператор организационного сектора   \n",
              "9    9          Специалист по информационной безопасности   \n",
              "23  23                             Консультант SAP BW/ BO   \n",
              "28  28            Специалист по станционному оборудованию   \n",
              "29  29                                    Сетевой инженер   \n",
              "31  31                                    Дизайнер мебели   \n",
              "32  32  Главный специалист отдела сопровождения проект...   \n",
              "33  33                               Руководитель проекта   \n",
              "34  34                               Руководитель проекта   \n",
              "35  35                   Project manager/Менеджер проекта   \n",
              "36  36                                Координатор проекта   \n",
              "56  56                            Системный администратор   \n",
              "\n",
              "                                               Навыки                Регион  \\\n",
              "0                                                  []  Астраханская область   \n",
              "1                   [Git, SQL, Тестирование, C#, API]  Астраханская область   \n",
              "2   [SQL, Linux, Информационная безопасность, Рабо...  Астраханская область   \n",
              "3   [Пользователь ПК, Работа в команде, 1С: Предпр...  Астраханская область   \n",
              "4   [MS Dos, Диагностика ПК, Компьютер, Работа в у...  Астраханская область   \n",
              "5                                                  []  Астраханская область   \n",
              "6   [Администрирование сетевого оборудования, Заку...  Астраханская область   \n",
              "7   [Пользователь ПК, Работа в команде, Грамотная ...  Астраханская область   \n",
              "8   [Пользователь ПК, Работа в команде, Грамотная ...  Астраханская область   \n",
              "9                                                  []  Астраханская область   \n",
              "23  [SAP BI, SAP Business Objects, SAP BW, Аналити...  Астраханская область   \n",
              "28                                                 []  Астраханская область   \n",
              "29         [OSPF, BGP, оформление документации, VLAN]  Астраханская область   \n",
              "31  [Грамотная речь, Активные продажи, Деловая пер...  Астраханская область   \n",
              "32  [Работа в команде, Деловая переписка, MS Power...  Астраханская область   \n",
              "33  [Работа в команде, Управление проектами, Орган...  Астраханская область   \n",
              "34  [Управление проектами, Ведение переговоров, MS...  Астраханская область   \n",
              "35  [Управление проектами, Работа с большим объемо...  Астраханская область   \n",
              "36  [MS PowerPoint, Подготовка презентаций, Органи...  Астраханская область   \n",
              "56  [Ответственность и пунктуальность, Администрир...  Астраханская область   \n",
              "\n",
              "                                         Отрасль  \\\n",
              "0   Информационные технологии, интернет, телеком   \n",
              "1   Информационные технологии, интернет, телеком   \n",
              "2   Информационные технологии, интернет, телеком   \n",
              "3   Информационные технологии, интернет, телеком   \n",
              "4   Информационные технологии, интернет, телеком   \n",
              "5   Информационные технологии, интернет, телеком   \n",
              "6   Информационные технологии, интернет, телеком   \n",
              "7   Информационные технологии, интернет, телеком   \n",
              "8   Информационные технологии, интернет, телеком   \n",
              "9   Информационные технологии, интернет, телеком   \n",
              "23  Информационные технологии, интернет, телеком   \n",
              "28  Информационные технологии, интернет, телеком   \n",
              "29  Информационные технологии, интернет, телеком   \n",
              "31  Информационные технологии, интернет, телеком   \n",
              "32  Информационные технологии, интернет, телеком   \n",
              "33  Информационные технологии, интернет, телеком   \n",
              "34  Информационные технологии, интернет, телеком   \n",
              "35  Информационные технологии, интернет, телеком   \n",
              "36  Информационные технологии, интернет, телеком   \n",
              "56  Информационные технологии, интернет, телеком   \n",
              "\n",
              "                                        Специализация                Опыт  \\\n",
              "0   [Начальный уровень, Мало опыта, Тестирование, ...           Нет опыта   \n",
              "1   [Программирование, Разработка, Инженер, Тестир...  От 1 года до 3 лет   \n",
              "2   [Программирование, Разработка, Инженер, Тестир...       От 3 до 6 лет   \n",
              "3   [Компьютерная безопасность, Сетевые технологии...           Нет опыта   \n",
              "4   [Компьютерная безопасность, Сетевые технологии...           Нет опыта   \n",
              "5   [Компьютерная безопасность, Сетевые технологии...           Нет опыта   \n",
              "6   [Компьютерная безопасность, Сетевые технологии...       От 3 до 6 лет   \n",
              "7   [Компьютерная безопасность, Сетевые технологии...           Нет опыта   \n",
              "8   [Компьютерная безопасность, Сетевые технологии...           Нет опыта   \n",
              "9   [Компьютерная безопасность, Сетевые технологии...       От 3 до 6 лет   \n",
              "23  [Начальный уровень, Мало опыта, Программирован...  От 1 года до 3 лет   \n",
              "28  [Сетевые технологии, Системный администратор, ...  От 1 года до 3 лет   \n",
              "29  [Сетевые технологии, Системный администратор, ...  От 1 года до 3 лет   \n",
              "31  [Игровое ПО, Программирование, Разработка, Диз...           Нет опыта   \n",
              "32  [Программирование, Разработка, Системы управле...  От 1 года до 3 лет   \n",
              "33  [Программирование, Разработка, Системы управле...  От 1 года до 3 лет   \n",
              "34  [Программирование, Разработка, Системы управле...  От 1 года до 3 лет   \n",
              "35  [Программирование, Разработка, Системы управле...  От 1 года до 3 лет   \n",
              "36  [Программирование, Разработка, Системы управле...       От 3 до 6 лет   \n",
              "56  [Программирование, Разработка, Системы управле...  От 1 года до 3 лет   \n",
              "\n",
              "    Зарплата от  Зарплата до  \n",
              "0           NaN          NaN  \n",
              "1       25000.0      25000.0  \n",
              "2           NaN          NaN  \n",
              "3       26000.0      26000.0  \n",
              "4       20000.0      20000.0  \n",
              "5       15000.0      15000.0  \n",
              "6           NaN          NaN  \n",
              "7       27000.0      27000.0  \n",
              "8       30000.0      30000.0  \n",
              "9       15000.0      15000.0  \n",
              "23          NaN          NaN  \n",
              "28      26000.0      26000.0  \n",
              "29      25000.0      25000.0  \n",
              "31      30000.0      30000.0  \n",
              "32          NaN          NaN  \n",
              "33      57500.0      57500.0  \n",
              "34          NaN          NaN  \n",
              "35      50000.0      50000.0  \n",
              "36          NaN          NaN  \n",
              "56      50000.0      50000.0  "
            ],
            "text/html": [
              "\n",
              "  <div id=\"df-fe4e9c3c-10da-447f-9e01-d89467f126f5\">\n",
              "    <div class=\"colab-df-container\">\n",
              "      <div>\n",
              "<style scoped>\n",
              "    .dataframe tbody tr th:only-of-type {\n",
              "        vertical-align: middle;\n",
              "    }\n",
              "\n",
              "    .dataframe tbody tr th {\n",
              "        vertical-align: top;\n",
              "    }\n",
              "\n",
              "    .dataframe thead th {\n",
              "        text-align: right;\n",
              "    }\n",
              "</style>\n",
              "<table border=\"1\" class=\"dataframe\">\n",
              "  <thead>\n",
              "    <tr style=\"text-align: right;\">\n",
              "      <th></th>\n",
              "      <th>#</th>\n",
              "      <th>Вакансия</th>\n",
              "      <th>Навыки</th>\n",
              "      <th>Регион</th>\n",
              "      <th>Отрасль</th>\n",
              "      <th>Специализация</th>\n",
              "      <th>Опыт</th>\n",
              "      <th>Зарплата от</th>\n",
              "      <th>Зарплата до</th>\n",
              "    </tr>\n",
              "  </thead>\n",
              "  <tbody>\n",
              "    <tr>\n",
              "      <th>0</th>\n",
              "      <td>0</td>\n",
              "      <td>Младший специалист ручного тестирования</td>\n",
              "      <td>[]</td>\n",
              "      <td>Астраханская область</td>\n",
              "      <td>Информационные технологии, интернет, телеком</td>\n",
              "      <td>[Начальный уровень, Мало опыта, Тестирование, ...</td>\n",
              "      <td>Нет опыта</td>\n",
              "      <td>NaN</td>\n",
              "      <td>NaN</td>\n",
              "    </tr>\n",
              "    <tr>\n",
              "      <th>1</th>\n",
              "      <td>1</td>\n",
              "      <td>Тестировщик.Net</td>\n",
              "      <td>[Git, SQL, Тестирование, C#, API]</td>\n",
              "      <td>Астраханская область</td>\n",
              "      <td>Информационные технологии, интернет, телеком</td>\n",
              "      <td>[Программирование, Разработка, Инженер, Тестир...</td>\n",
              "      <td>От 1 года до 3 лет</td>\n",
              "      <td>25000.0</td>\n",
              "      <td>25000.0</td>\n",
              "    </tr>\n",
              "    <tr>\n",
              "      <th>2</th>\n",
              "      <td>2</td>\n",
              "      <td>Пентестер</td>\n",
              "      <td>[SQL, Linux, Информационная безопасность, Рабо...</td>\n",
              "      <td>Астраханская область</td>\n",
              "      <td>Информационные технологии, интернет, телеком</td>\n",
              "      <td>[Программирование, Разработка, Инженер, Тестир...</td>\n",
              "      <td>От 3 до 6 лет</td>\n",
              "      <td>NaN</td>\n",
              "      <td>NaN</td>\n",
              "    </tr>\n",
              "    <tr>\n",
              "      <th>3</th>\n",
              "      <td>3</td>\n",
              "      <td>Ведущий Специалист по информационным технологиям</td>\n",
              "      <td>[Пользователь ПК, Работа в команде, 1С: Предпр...</td>\n",
              "      <td>Астраханская область</td>\n",
              "      <td>Информационные технологии, интернет, телеком</td>\n",
              "      <td>[Компьютерная безопасность, Сетевые технологии...</td>\n",
              "      <td>Нет опыта</td>\n",
              "      <td>26000.0</td>\n",
              "      <td>26000.0</td>\n",
              "    </tr>\n",
              "    <tr>\n",
              "      <th>4</th>\n",
              "      <td>4</td>\n",
              "      <td>Специалист по защите информации</td>\n",
              "      <td>[MS Dos, Диагностика ПК, Компьютер, Работа в у...</td>\n",
              "      <td>Астраханская область</td>\n",
              "      <td>Информационные технологии, интернет, телеком</td>\n",
              "      <td>[Компьютерная безопасность, Сетевые технологии...</td>\n",
              "      <td>Нет опыта</td>\n",
              "      <td>20000.0</td>\n",
              "      <td>20000.0</td>\n",
              "    </tr>\n",
              "    <tr>\n",
              "      <th>5</th>\n",
              "      <td>5</td>\n",
              "      <td>Специалист по защите информации</td>\n",
              "      <td>[]</td>\n",
              "      <td>Астраханская область</td>\n",
              "      <td>Информационные технологии, интернет, телеком</td>\n",
              "      <td>[Компьютерная безопасность, Сетевые технологии...</td>\n",
              "      <td>Нет опыта</td>\n",
              "      <td>15000.0</td>\n",
              "      <td>15000.0</td>\n",
              "    </tr>\n",
              "    <tr>\n",
              "      <th>6</th>\n",
              "      <td>6</td>\n",
              "      <td>Ведущий специалист по информационным технологиям</td>\n",
              "      <td>[Администрирование сетевого оборудования, Заку...</td>\n",
              "      <td>Астраханская область</td>\n",
              "      <td>Информационные технологии, интернет, телеком</td>\n",
              "      <td>[Компьютерная безопасность, Сетевые технологии...</td>\n",
              "      <td>От 3 до 6 лет</td>\n",
              "      <td>NaN</td>\n",
              "      <td>NaN</td>\n",
              "    </tr>\n",
              "    <tr>\n",
              "      <th>7</th>\n",
              "      <td>7</td>\n",
              "      <td>Специалист по защите информации</td>\n",
              "      <td>[Пользователь ПК, Работа в команде, Грамотная ...</td>\n",
              "      <td>Астраханская область</td>\n",
              "      <td>Информационные технологии, интернет, телеком</td>\n",
              "      <td>[Компьютерная безопасность, Сетевые технологии...</td>\n",
              "      <td>Нет опыта</td>\n",
              "      <td>27000.0</td>\n",
              "      <td>27000.0</td>\n",
              "    </tr>\n",
              "    <tr>\n",
              "      <th>8</th>\n",
              "      <td>8</td>\n",
              "      <td>Оператор организационного сектора</td>\n",
              "      <td>[Пользователь ПК, Работа в команде, Грамотная ...</td>\n",
              "      <td>Астраханская область</td>\n",
              "      <td>Информационные технологии, интернет, телеком</td>\n",
              "      <td>[Компьютерная безопасность, Сетевые технологии...</td>\n",
              "      <td>Нет опыта</td>\n",
              "      <td>30000.0</td>\n",
              "      <td>30000.0</td>\n",
              "    </tr>\n",
              "    <tr>\n",
              "      <th>9</th>\n",
              "      <td>9</td>\n",
              "      <td>Специалист по информационной безопасности</td>\n",
              "      <td>[]</td>\n",
              "      <td>Астраханская область</td>\n",
              "      <td>Информационные технологии, интернет, телеком</td>\n",
              "      <td>[Компьютерная безопасность, Сетевые технологии...</td>\n",
              "      <td>От 3 до 6 лет</td>\n",
              "      <td>15000.0</td>\n",
              "      <td>15000.0</td>\n",
              "    </tr>\n",
              "    <tr>\n",
              "      <th>23</th>\n",
              "      <td>23</td>\n",
              "      <td>Консультант SAP BW/ BO</td>\n",
              "      <td>[SAP BI, SAP Business Objects, SAP BW, Аналити...</td>\n",
              "      <td>Астраханская область</td>\n",
              "      <td>Информационные технологии, интернет, телеком</td>\n",
              "      <td>[Начальный уровень, Мало опыта, Программирован...</td>\n",
              "      <td>От 1 года до 3 лет</td>\n",
              "      <td>NaN</td>\n",
              "      <td>NaN</td>\n",
              "    </tr>\n",
              "    <tr>\n",
              "      <th>28</th>\n",
              "      <td>28</td>\n",
              "      <td>Специалист по станционному оборудованию</td>\n",
              "      <td>[]</td>\n",
              "      <td>Астраханская область</td>\n",
              "      <td>Информационные технологии, интернет, телеком</td>\n",
              "      <td>[Сетевые технологии, Системный администратор, ...</td>\n",
              "      <td>От 1 года до 3 лет</td>\n",
              "      <td>26000.0</td>\n",
              "      <td>26000.0</td>\n",
              "    </tr>\n",
              "    <tr>\n",
              "      <th>29</th>\n",
              "      <td>29</td>\n",
              "      <td>Сетевой инженер</td>\n",
              "      <td>[OSPF, BGP, оформление документации, VLAN]</td>\n",
              "      <td>Астраханская область</td>\n",
              "      <td>Информационные технологии, интернет, телеком</td>\n",
              "      <td>[Сетевые технологии, Системный администратор, ...</td>\n",
              "      <td>От 1 года до 3 лет</td>\n",
              "      <td>25000.0</td>\n",
              "      <td>25000.0</td>\n",
              "    </tr>\n",
              "    <tr>\n",
              "      <th>31</th>\n",
              "      <td>31</td>\n",
              "      <td>Дизайнер мебели</td>\n",
              "      <td>[Грамотная речь, Активные продажи, Деловая пер...</td>\n",
              "      <td>Астраханская область</td>\n",
              "      <td>Информационные технологии, интернет, телеком</td>\n",
              "      <td>[Игровое ПО, Программирование, Разработка, Диз...</td>\n",
              "      <td>Нет опыта</td>\n",
              "      <td>30000.0</td>\n",
              "      <td>30000.0</td>\n",
              "    </tr>\n",
              "    <tr>\n",
              "      <th>32</th>\n",
              "      <td>32</td>\n",
              "      <td>Главный специалист отдела сопровождения проект...</td>\n",
              "      <td>[Работа в команде, Деловая переписка, MS Power...</td>\n",
              "      <td>Астраханская область</td>\n",
              "      <td>Информационные технологии, интернет, телеком</td>\n",
              "      <td>[Программирование, Разработка, Системы управле...</td>\n",
              "      <td>От 1 года до 3 лет</td>\n",
              "      <td>NaN</td>\n",
              "      <td>NaN</td>\n",
              "    </tr>\n",
              "    <tr>\n",
              "      <th>33</th>\n",
              "      <td>33</td>\n",
              "      <td>Руководитель проекта</td>\n",
              "      <td>[Работа в команде, Управление проектами, Орган...</td>\n",
              "      <td>Астраханская область</td>\n",
              "      <td>Информационные технологии, интернет, телеком</td>\n",
              "      <td>[Программирование, Разработка, Системы управле...</td>\n",
              "      <td>От 1 года до 3 лет</td>\n",
              "      <td>57500.0</td>\n",
              "      <td>57500.0</td>\n",
              "    </tr>\n",
              "    <tr>\n",
              "      <th>34</th>\n",
              "      <td>34</td>\n",
              "      <td>Руководитель проекта</td>\n",
              "      <td>[Управление проектами, Ведение переговоров, MS...</td>\n",
              "      <td>Астраханская область</td>\n",
              "      <td>Информационные технологии, интернет, телеком</td>\n",
              "      <td>[Программирование, Разработка, Системы управле...</td>\n",
              "      <td>От 1 года до 3 лет</td>\n",
              "      <td>NaN</td>\n",
              "      <td>NaN</td>\n",
              "    </tr>\n",
              "    <tr>\n",
              "      <th>35</th>\n",
              "      <td>35</td>\n",
              "      <td>Project manager/Менеджер проекта</td>\n",
              "      <td>[Управление проектами, Работа с большим объемо...</td>\n",
              "      <td>Астраханская область</td>\n",
              "      <td>Информационные технологии, интернет, телеком</td>\n",
              "      <td>[Программирование, Разработка, Системы управле...</td>\n",
              "      <td>От 1 года до 3 лет</td>\n",
              "      <td>50000.0</td>\n",
              "      <td>50000.0</td>\n",
              "    </tr>\n",
              "    <tr>\n",
              "      <th>36</th>\n",
              "      <td>36</td>\n",
              "      <td>Координатор проекта</td>\n",
              "      <td>[MS PowerPoint, Подготовка презентаций, Органи...</td>\n",
              "      <td>Астраханская область</td>\n",
              "      <td>Информационные технологии, интернет, телеком</td>\n",
              "      <td>[Программирование, Разработка, Системы управле...</td>\n",
              "      <td>От 3 до 6 лет</td>\n",
              "      <td>NaN</td>\n",
              "      <td>NaN</td>\n",
              "    </tr>\n",
              "    <tr>\n",
              "      <th>56</th>\n",
              "      <td>56</td>\n",
              "      <td>Системный администратор</td>\n",
              "      <td>[Ответственность и пунктуальность, Администрир...</td>\n",
              "      <td>Астраханская область</td>\n",
              "      <td>Информационные технологии, интернет, телеком</td>\n",
              "      <td>[Программирование, Разработка, Системы управле...</td>\n",
              "      <td>От 1 года до 3 лет</td>\n",
              "      <td>50000.0</td>\n",
              "      <td>50000.0</td>\n",
              "    </tr>\n",
              "  </tbody>\n",
              "</table>\n",
              "</div>\n",
              "      <button class=\"colab-df-convert\" onclick=\"convertToInteractive('df-fe4e9c3c-10da-447f-9e01-d89467f126f5')\"\n",
              "              title=\"Convert this dataframe to an interactive table.\"\n",
              "              style=\"display:none;\">\n",
              "        \n",
              "  <svg xmlns=\"http://www.w3.org/2000/svg\" height=\"24px\"viewBox=\"0 0 24 24\"\n",
              "       width=\"24px\">\n",
              "    <path d=\"M0 0h24v24H0V0z\" fill=\"none\"/>\n",
              "    <path d=\"M18.56 5.44l.94 2.06.94-2.06 2.06-.94-2.06-.94-.94-2.06-.94 2.06-2.06.94zm-11 1L8.5 8.5l.94-2.06 2.06-.94-2.06-.94L8.5 2.5l-.94 2.06-2.06.94zm10 10l.94 2.06.94-2.06 2.06-.94-2.06-.94-.94-2.06-.94 2.06-2.06.94z\"/><path d=\"M17.41 7.96l-1.37-1.37c-.4-.4-.92-.59-1.43-.59-.52 0-1.04.2-1.43.59L10.3 9.45l-7.72 7.72c-.78.78-.78 2.05 0 2.83L4 21.41c.39.39.9.59 1.41.59.51 0 1.02-.2 1.41-.59l7.78-7.78 2.81-2.81c.8-.78.8-2.07 0-2.86zM5.41 20L4 18.59l7.72-7.72 1.47 1.35L5.41 20z\"/>\n",
              "  </svg>\n",
              "      </button>\n",
              "      \n",
              "  <style>\n",
              "    .colab-df-container {\n",
              "      display:flex;\n",
              "      flex-wrap:wrap;\n",
              "      gap: 12px;\n",
              "    }\n",
              "\n",
              "    .colab-df-convert {\n",
              "      background-color: #E8F0FE;\n",
              "      border: none;\n",
              "      border-radius: 50%;\n",
              "      cursor: pointer;\n",
              "      display: none;\n",
              "      fill: #1967D2;\n",
              "      height: 32px;\n",
              "      padding: 0 0 0 0;\n",
              "      width: 32px;\n",
              "    }\n",
              "\n",
              "    .colab-df-convert:hover {\n",
              "      background-color: #E2EBFA;\n",
              "      box-shadow: 0px 1px 2px rgba(60, 64, 67, 0.3), 0px 1px 3px 1px rgba(60, 64, 67, 0.15);\n",
              "      fill: #174EA6;\n",
              "    }\n",
              "\n",
              "    [theme=dark] .colab-df-convert {\n",
              "      background-color: #3B4455;\n",
              "      fill: #D2E3FC;\n",
              "    }\n",
              "\n",
              "    [theme=dark] .colab-df-convert:hover {\n",
              "      background-color: #434B5C;\n",
              "      box-shadow: 0px 1px 3px 1px rgba(0, 0, 0, 0.15);\n",
              "      filter: drop-shadow(0px 1px 2px rgba(0, 0, 0, 0.3));\n",
              "      fill: #FFFFFF;\n",
              "    }\n",
              "  </style>\n",
              "\n",
              "      <script>\n",
              "        const buttonEl =\n",
              "          document.querySelector('#df-fe4e9c3c-10da-447f-9e01-d89467f126f5 button.colab-df-convert');\n",
              "        buttonEl.style.display =\n",
              "          google.colab.kernel.accessAllowed ? 'block' : 'none';\n",
              "\n",
              "        async function convertToInteractive(key) {\n",
              "          const element = document.querySelector('#df-fe4e9c3c-10da-447f-9e01-d89467f126f5');\n",
              "          const dataTable =\n",
              "            await google.colab.kernel.invokeFunction('convertToInteractive',\n",
              "                                                     [key], {});\n",
              "          if (!dataTable) return;\n",
              "\n",
              "          const docLinkHtml = 'Like what you see? Visit the ' +\n",
              "            '<a target=\"_blank\" href=https://colab.research.google.com/notebooks/data_table.ipynb>data table notebook</a>'\n",
              "            + ' to learn more about interactive tables.';\n",
              "          element.innerHTML = '';\n",
              "          dataTable['output_type'] = 'display_data';\n",
              "          await google.colab.output.renderOutput(dataTable, element);\n",
              "          const docLink = document.createElement('div');\n",
              "          docLink.innerHTML = docLinkHtml;\n",
              "          element.appendChild(docLink);\n",
              "        }\n",
              "      </script>\n",
              "    </div>\n",
              "  </div>\n",
              "  "
            ]
          },
          "metadata": {},
          "execution_count": 36
        }
      ]
    },
    {
      "cell_type": "markdown",
      "source": [
        "Определим наиболее требуемые навыки в сфере Информационных технологий"
      ],
      "metadata": {
        "id": "h0BgkrybMts8"
      }
    },
    {
      "cell_type": "code",
      "source": [
        "skills_it = df_it_only['Навыки'].explode()\n",
        "skills.value_counts().head(20)"
      ],
      "metadata": {
        "id": "IbEvOEr8Mu-b",
        "colab": {
          "base_uri": "https://localhost:8080/"
        },
        "outputId": "4dae1d3a-4264-4e57-d6aa-b01d953a4d2f"
      },
      "execution_count": null,
      "outputs": [
        {
          "output_type": "execute_result",
          "data": {
            "text/plain": [
              "Работа в команде          8057\n",
              "Грамотная речь            6734\n",
              "SQL                       6393\n",
              "Linux                     4943\n",
              "Git                       4587\n",
              "Английский язык           4454\n",
              "Подбор персонала          4326\n",
              "Ведение переговоров       4111\n",
              "Управление проектами      3697\n",
              "Python                    3249\n",
              "Деловое общение           3235\n",
              "Пользователь ПК           3218\n",
              "Обучение и развитие       3206\n",
              "Активные продажи          3052\n",
              "Телефонные переговоры     2818\n",
              "JavaScript                2774\n",
              "Организаторские навыки    2621\n",
              "1С программирование       2598\n",
              "PostgreSQL                2565\n",
              "Adobe Photoshop           2403\n",
              "Name: Навыки, dtype: int64"
            ]
          },
          "metadata": {},
          "execution_count": 37
        }
      ]
    },
    {
      "cell_type": "markdown",
      "source": [
        "Так мы узнали, что наиболее требуемыми являются софт-скиллы (Работа в команде и Грамотная речь), так и хард-скиллы (SQL, Linux, Git)"
      ],
      "metadata": {
        "id": "ElCbHU9LM5HN"
      }
    },
    {
      "cell_type": "markdown",
      "source": [
        "Оценим среднюю зарплату по требуемым ИТ навыкам"
      ],
      "metadata": {
        "id": "7-GYwmLrNFa0"
      }
    },
    {
      "cell_type": "code",
      "source": [
        "skill_salary_df = df_it_only[['Навыки', 'Зарплата от']]\n",
        "\n",
        "\n",
        "skill_salary_it = skill_salary_df.explode('Навыки').dropna()\n",
        "\n",
        "skill_salary_mean = skill_salary_it.groupby('Навыки')['Зарплата от'].mean()\n",
        "\n",
        "skill_salary_mean.dropna().astype(int).sort_values(ascending=False)[:20]"
      ],
      "metadata": {
        "colab": {
          "base_uri": "https://localhost:8080/"
        },
        "id": "Q77IJunHA3KM",
        "outputId": "69996eef-60ad-4a1a-fba5-5835895c54e8"
      },
      "execution_count": null,
      "outputs": [
        {
          "output_type": "execute_result",
          "data": {
            "text/plain": [
              "Навыки\n",
              "HRTech                            500000\n",
              "EdTech                            500000\n",
              "Strategic Planning                400000\n",
              "Marketing Analysis                400000\n",
              "Business Development              400000\n",
              "Marketing Strategy Development    400000\n",
              "Operations Management             400000\n",
              "Business Process Management       400000\n",
              "IaC                               360000\n",
              "Amazon                            360000\n",
              "PyTorch                           355000\n",
              "Apache Spark                      354000\n",
              "Sphinx                            350000\n",
              "spiral framework                  350000\n",
              "Pulumi                            350000\n",
              "Livedata                          350000\n",
              "hashicorp                         350000\n",
              "web3.js                           350000\n",
              "Cordova                           350000\n",
              "FullStack                         343333\n",
              "Name: Зарплата от, dtype: int64"
            ]
          },
          "metadata": {},
          "execution_count": 38
        }
      ]
    },
    {
      "cell_type": "markdown",
      "source": [
        "Выведем топ 20 вакансий в сфере ИТ"
      ],
      "metadata": {
        "id": "9BpDUXvAMsSN"
      }
    },
    {
      "cell_type": "code",
      "source": [
        "#Приведем 1С вакансии к общему виду\n",
        "list_replaces = [('Программист 1C','Программист 1С'),('разработчик 1с','Программист 1С'),('разработчик 1с','Программист 1С'),('программист 1 с','Программист 1С'),('инженер - Программист 1С','Программист 1С')] \n",
        "for el in list_replaces: \n",
        " df_it_only['Вакансия'] = df_it_only.Вакансия.apply(lambda x: x.replace(el[0],el[1]))"
      ],
      "metadata": {
        "colab": {
          "base_uri": "https://localhost:8080/"
        },
        "id": "fEq8NeskMtfD",
        "outputId": "1561cd37-1afa-4ed5-a32c-0c73a0a53b4e"
      },
      "execution_count": null,
      "outputs": [
        {
          "output_type": "stream",
          "name": "stderr",
          "text": [
            "/usr/local/lib/python3.7/dist-packages/ipykernel_launcher.py:4: SettingWithCopyWarning: \n",
            "A value is trying to be set on a copy of a slice from a DataFrame.\n",
            "Try using .loc[row_indexer,col_indexer] = value instead\n",
            "\n",
            "See the caveats in the documentation: https://pandas.pydata.org/pandas-docs/stable/user_guide/indexing.html#returning-a-view-versus-a-copy\n",
            "  after removing the cwd from sys.path.\n"
          ]
        }
      ]
    },
    {
      "cell_type": "code",
      "source": [
        "top_vacancy = df_it_only['Вакансия'].value_counts()[:20]\n",
        "top_vacancy"
      ],
      "metadata": {
        "colab": {
          "base_uri": "https://localhost:8080/"
        },
        "id": "SPA7GKtBHKRp",
        "outputId": "7298a50e-ecc2-47c2-ec42-ccab95855427"
      },
      "execution_count": null,
      "outputs": [
        {
          "output_type": "execute_result",
          "data": {
            "text/plain": [
              "Системный администратор                                       1657\n",
              "Программист 1С                                                1439\n",
              "Специалист технической поддержки                               478\n",
              "Инженер-программист                                            328\n",
              "Графический дизайнер                                           314\n",
              "Инженер технической поддержки                                  273\n",
              "Дизайнер                                                       251\n",
              "Технический писатель                                           213\n",
              "Руководитель проекта                                           209\n",
              "Специалист по информационной безопасности                      185\n",
              "Frontend-разработчик                                           184\n",
              "DevOps инженер                                                 180\n",
              "Программист                                                    179\n",
              "Специалист службы поддержки в Яндекс Бизнес                    168\n",
              "Младший специалист ручного тестирования                        159\n",
              "Руководитель проектов                                          158\n",
              "Менеджер проектов                                              155\n",
              "Java-разработчик                                               143\n",
              "Специалист службы поддержки Рекламной сети Яндекса и ADFOX     141\n",
              "Ведущий системный администратор                                132\n",
              "Name: Вакансия, dtype: int64"
            ]
          },
          "metadata": {},
          "execution_count": 40
        }
      ]
    },
    {
      "cell_type": "code",
      "source": [
        "plt.ylabel('Количество вакансий')\n",
        "plt.xticks(rotation = 30, ha = 'right')\n",
        "plt.barh(top_vacancy.index, top_vacancy.values)\n",
        "plt.show"
      ],
      "metadata": {
        "colab": {
          "base_uri": "https://localhost:8080/",
          "height": 294
        },
        "id": "go94_WYOHbjA",
        "outputId": "4def458b-9093-48af-8006-3c6c8f5d4332"
      },
      "execution_count": null,
      "outputs": [
        {
          "output_type": "execute_result",
          "data": {
            "text/plain": [
              "<function matplotlib.pyplot.show(*args, **kw)>"
            ]
          },
          "metadata": {},
          "execution_count": 41
        },
        {
          "output_type": "display_data",
          "data": {
            "text/plain": [
              "<Figure size 432x288 with 1 Axes>"
            ],
            "image/png": "[encoded data removed]"
          },
          "metadata": {
            "needs_background": "light"
          }
        }
      ]
    },
    {
      "cell_type": "markdown",
      "source": [
        "Наиболее популярной в сфере ИТ является вакансия системного администратора"
      ],
      "metadata": {
        "id": "6VJOJAvPHyW_"
      }
    },
    {
      "cell_type": "code",
      "source": [
        "salary_vacancy = df_it_only.groupby('Вакансия')['Зарплата от'].mean()\n",
        "\n",
        "salary_vacancy_top = salary_vacancy.dropna().astype(int).sort_values(ascending=False)[:10]"
      ],
      "metadata": {
        "id": "tMdiNhj7Gy7c"
      },
      "execution_count": null,
      "outputs": []
    },
    {
      "cell_type": "code",
      "source": [
        "plt.ylabel('Зарплата')\n",
        "plt.xticks(rotation = 30, ha = 'right')\n",
        "plt.bar(salary_vacancy_top.index, salary_vacancy_top.values)\n",
        "plt.show"
      ],
      "metadata": {
        "colab": {
          "base_uri": "https://localhost:8080/",
          "height": 511
        },
        "id": "3M3vyPcUK6YZ",
        "outputId": "a0b3f282-87ab-4510-cb60-d34807453558"
      },
      "execution_count": null,
      "outputs": [
        {
          "output_type": "execute_result",
          "data": {
            "text/plain": [
              "<function matplotlib.pyplot.show(*args, **kw)>"
            ]
          },
          "metadata": {},
          "execution_count": 43
        },
        {
          "output_type": "display_data",
          "data": {
            "text/plain": [
              "<Figure size 432x288 with 1 Axes>"
            ],
            "image/png": "[encoded data removed]"
          },
          "metadata": {
            "needs_background": "light"
          }
        }
      ]
    },
    {
      "cell_type": "markdown",
      "source": [
        "В сфере ИТ довольно наибольшее количество начальных вакансий, не требующих опыта. Так же сфера информационных технологий находится на втором месте по уровню зарплаты для начальных позиций, так и является лидером среди прочих сфер по общему количеству вакансий. Поэтому развитие направления курсов даже при насыщенном заполнении рынка должно быть прибыльным."
      ],
      "metadata": {
        "id": "e9v24JTHN0sg"
      }
    },
    {
      "cell_type": "code",
      "source": [
        "import time\n",
        "from google.colab import files\n",
        "name = 'вакансии_модифицированные'\n",
        "df_it_only.to_csv(name)\n",
        "files.download(name)"
      ],
      "metadata": {
        "colab": {
          "base_uri": "https://localhost:8080/",
          "height": 34
        },
        "id": "gqPNCAbTvHop",
        "outputId": "81027663-3272-4358-a019-839cbd72d4ce"
      },
      "execution_count": null,
      "outputs": [
        {
          "output_type": "display_data",
          "data": {
            "text/plain": [
              "<IPython.core.display.Javascript object>"
            ],
            "application/javascript": [
              "\n",
              "    async function download(id, filename, size) {\n",
              "      if (!google.colab.kernel.accessAllowed) {\n",
              "        return;\n",
              "      }\n",
              "      const div = document.createElement('div');\n",
              "      const label = document.createElement('label');\n",
              "      label.textContent = `Downloading \"${filename}\": `;\n",
              "      div.appendChild(label);\n",
              "      const progress = document.createElement('progress');\n",
              "      progress.max = size;\n",
              "      div.appendChild(progress);\n",
              "      document.body.appendChild(div);\n",
              "\n",
              "      const buffers = [];\n",
              "      let downloaded = 0;\n",
              "\n",
              "      const channel = await google.colab.kernel.comms.open(id);\n",
              "      // Send a message to notify the kernel that we're ready.\n",
              "      channel.send({})\n",
              "\n",
              "      for await (const message of channel.messages) {\n",
              "        // Send a message to notify the kernel that we're ready.\n",
              "        channel.send({})\n",
              "        if (message.buffers) {\n",
              "          for (const buffer of message.buffers) {\n",
              "            buffers.push(buffer);\n",
              "            downloaded += buffer.byteLength;\n",
              "            progress.value = downloaded;\n",
              "          }\n",
              "        }\n",
              "      }\n",
              "      const blob = new Blob(buffers, {type: 'application/binary'});\n",
              "      const a = document.createElement('a');\n",
              "      a.href = window.URL.createObjectURL(blob);\n",
              "      a.download = filename;\n",
              "      div.appendChild(a);\n",
              "      a.click();\n",
              "      div.remove();\n",
              "    }\n",
              "  "
            ]
          },
          "metadata": {}
        },
        {
          "output_type": "display_data",
          "data": {
            "text/plain": [
              "<IPython.core.display.Javascript object>"
            ],
            "application/javascript": [
              "download(\"download_828acca4-d5ad-45b0-b2ea-dc57007de6e0\", \"\\u0432\\u0430\\u043a\\u0430\\u043d\\u0441\\u0438\\u0438_\\u043c\\u043e\\u0434\\u0438\\u0444\\u0438\\u0446\\u0438\\u0440\\u043e\\u0432\\u0430\\u043d\\u043d\\u044b\\u0435\", 21449008)"
            ]
          },
          "metadata": {}
        }
      ]
    }
  ]
}